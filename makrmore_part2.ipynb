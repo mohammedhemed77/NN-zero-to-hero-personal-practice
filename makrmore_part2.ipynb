{
  "nbformat": 4,
  "nbformat_minor": 0,
  "metadata": {
    "colab": {
      "provenance": [],
      "authorship_tag": "ABX9TyPbu7IyAXGJ5u7ZvfGZ/EUi",
      "include_colab_link": true
    },
    "kernelspec": {
      "name": "python3",
      "display_name": "Python 3"
    },
    "language_info": {
      "name": "python"
    }
  },
  "cells": [
    {
      "cell_type": "markdown",
      "metadata": {
        "id": "view-in-github",
        "colab_type": "text"
      },
      "source": [
        "<a href=\"https://colab.research.google.com/github/mohammedhemed77/NN-zero-to-hero-personal-practice/blob/main/makrmore_part2.ipynb\" target=\"_parent\"><img src=\"https://colab.research.google.com/assets/colab-badge.svg\" alt=\"Open In Colab\"/></a>"
      ]
    },
    {
      "cell_type": "code",
      "execution_count": 1,
      "metadata": {
        "id": "RWNHwhrTlIQD"
      },
      "outputs": [],
      "source": [
        "import torch\n",
        "import torch.nn.functional as F\n",
        "import matplotlib.pyplot as plt\n",
        "%matplotlib inline"
      ]
    },
    {
      "cell_type": "code",
      "source": [
        "words = open ('names.txt','r').read().splitlines()\n",
        "print (words [:8])\n",
        "print (f\"dataset length : {len(words)}\")\n",
        "print (f\"minimum length : {min(len(w) for w  in words)}\")\n",
        "print (f\"maximum length : {max(len(w) for w in words)}\")"
      ],
      "metadata": {
        "colab": {
          "base_uri": "https://localhost:8080/"
        },
        "id": "ntHp0E-vm0m_",
        "outputId": "d1fa655a-4946-47d1-8137-6038e7fc5292"
      },
      "execution_count": 5,
      "outputs": [
        {
          "output_type": "stream",
          "name": "stdout",
          "text": [
            "['emma', 'olivia', 'ava', 'isabella', 'sophia', 'charlotte', 'mia', 'amelia']\n",
            "dataset length : 32033\n",
            "minimum length : 2\n",
            "maximum length : 15\n"
          ]
        }
      ]
    },
    {
      "cell_type": "code",
      "source": [
        "# build vocab of chars - mapping from int - > char , char -> int\n",
        "chars = sorted (list(set(''.join(words))))\n",
        "stoi = {s:i+1 for i,s in enumerate(chars)}\n",
        "stoi['.'] = 0\n",
        "itos= { i:s for s,i in stoi.items()}\n",
        "print(itos)\n",
        "for c in chars : print (c)\n",
        "for (i,s) in enumerate(chars): print (i ,s )"
      ],
      "metadata": {
        "colab": {
          "base_uri": "https://localhost:8080/"
        },
        "id": "rRvSVET4qtMS",
        "outputId": "c91a50e7-7d41-40d9-a8aa-6d1d6a4a4db0"
      },
      "execution_count": 6,
      "outputs": [
        {
          "output_type": "stream",
          "name": "stdout",
          "text": [
            "{1: 'a', 2: 'b', 3: 'c', 4: 'd', 5: 'e', 6: 'f', 7: 'g', 8: 'h', 9: 'i', 10: 'j', 11: 'k', 12: 'l', 13: 'm', 14: 'n', 15: 'o', 16: 'p', 17: 'q', 18: 'r', 19: 's', 20: 't', 21: 'u', 22: 'v', 23: 'w', 24: 'x', 25: 'y', 26: 'z', 0: '.'}\n",
            "a\n",
            "b\n",
            "c\n",
            "d\n",
            "e\n",
            "f\n",
            "g\n",
            "h\n",
            "i\n",
            "j\n",
            "k\n",
            "l\n",
            "m\n",
            "n\n",
            "o\n",
            "p\n",
            "q\n",
            "r\n",
            "s\n",
            "t\n",
            "u\n",
            "v\n",
            "w\n",
            "x\n",
            "y\n",
            "z\n",
            "0 a\n",
            "1 b\n",
            "2 c\n",
            "3 d\n",
            "4 e\n",
            "5 f\n",
            "6 g\n",
            "7 h\n",
            "8 i\n",
            "9 j\n",
            "10 k\n",
            "11 l\n",
            "12 m\n",
            "13 n\n",
            "14 o\n",
            "15 p\n",
            "16 q\n",
            "17 r\n",
            "18 s\n",
            "19 t\n",
            "20 u\n",
            "21 v\n",
            "22 w\n",
            "23 x\n",
            "24 y\n",
            "25 z\n"
          ]
        }
      ]
    },
    {
      "cell_type": "code",
      "source": [
        "# building the dataset\n",
        "block_size = 3\n",
        "X , Y = [],[]\n",
        "\n",
        "for word in words [:5]:\n",
        "  # reset context\n",
        "  context = [0] * block_size\n",
        "  for ch in word + '.' :\n",
        "    ix = stoi[ch]\n",
        "    X.append(context)\n",
        "    Y.append(ix)\n",
        "    # update context for the next char\n",
        "    context = context[1:] + [ix]\n",
        "    #print (''.join(itos[i] for i in context),'--->',itos[ix])\n",
        "\n",
        "X = torch.tensor(X)\n",
        "Y = torch.tensor(Y)"
      ],
      "metadata": {
        "id": "yhd7G_0ZQJly"
      },
      "execution_count": 7,
      "outputs": []
    },
    {
      "cell_type": "code",
      "source": [
        "X.shape , X.dtype , Y.shape , Y.dtype"
      ],
      "metadata": {
        "colab": {
          "base_uri": "https://localhost:8080/"
        },
        "id": "2DLEhaLAHqpE",
        "outputId": "88818113-1912-407c-dbc3-8875b2f799ea"
      },
      "execution_count": 8,
      "outputs": [
        {
          "output_type": "execute_result",
          "data": {
            "text/plain": [
              "(torch.Size([32, 3]), torch.int64, torch.Size([32]), torch.int64)"
            ]
          },
          "metadata": {},
          "execution_count": 8
        }
      ]
    },
    {
      "cell_type": "code",
      "source": [
        "# create Embedding matrix , in the paper he embed 17000 words into 30-d\n",
        "# here we embed 27 possible chars in 2 d\n",
        "C = torch.randn((27,2))\n",
        "embed = C[X]\n",
        "print (f\"embed shape = {embed.shape}\")\n",
        "print(embed)"
      ],
      "metadata": {
        "colab": {
          "base_uri": "https://localhost:8080/"
        },
        "id": "ZlXLe8-0Inw3",
        "outputId": "bbd02fac-257a-44b4-eb2e-2b35097a679a"
      },
      "execution_count": 9,
      "outputs": [
        {
          "output_type": "stream",
          "name": "stdout",
          "text": [
            "embed shape = torch.Size([32, 3, 2])\n",
            "tensor([[[-0.3162, -0.1793],\n",
            "         [-0.3162, -0.1793],\n",
            "         [-0.3162, -0.1793]],\n",
            "\n",
            "        [[-0.3162, -0.1793],\n",
            "         [-0.3162, -0.1793],\n",
            "         [-0.3975,  0.1374]],\n",
            "\n",
            "        [[-0.3162, -0.1793],\n",
            "         [-0.3975,  0.1374],\n",
            "         [ 1.3707, -0.9104]],\n",
            "\n",
            "        [[-0.3975,  0.1374],\n",
            "         [ 1.3707, -0.9104],\n",
            "         [ 1.3707, -0.9104]],\n",
            "\n",
            "        [[ 1.3707, -0.9104],\n",
            "         [ 1.3707, -0.9104],\n",
            "         [ 1.2139, -0.6413]],\n",
            "\n",
            "        [[-0.3162, -0.1793],\n",
            "         [-0.3162, -0.1793],\n",
            "         [-0.3162, -0.1793]],\n",
            "\n",
            "        [[-0.3162, -0.1793],\n",
            "         [-0.3162, -0.1793],\n",
            "         [ 0.9383,  0.2775]],\n",
            "\n",
            "        [[-0.3162, -0.1793],\n",
            "         [ 0.9383,  0.2775],\n",
            "         [-1.1595, -0.3388]],\n",
            "\n",
            "        [[ 0.9383,  0.2775],\n",
            "         [-1.1595, -0.3388],\n",
            "         [-0.7619,  0.4143]],\n",
            "\n",
            "        [[-1.1595, -0.3388],\n",
            "         [-0.7619,  0.4143],\n",
            "         [ 0.7195, -0.6032]],\n",
            "\n",
            "        [[-0.7619,  0.4143],\n",
            "         [ 0.7195, -0.6032],\n",
            "         [-0.7619,  0.4143]],\n",
            "\n",
            "        [[ 0.7195, -0.6032],\n",
            "         [-0.7619,  0.4143],\n",
            "         [ 1.2139, -0.6413]],\n",
            "\n",
            "        [[-0.3162, -0.1793],\n",
            "         [-0.3162, -0.1793],\n",
            "         [-0.3162, -0.1793]],\n",
            "\n",
            "        [[-0.3162, -0.1793],\n",
            "         [-0.3162, -0.1793],\n",
            "         [ 1.2139, -0.6413]],\n",
            "\n",
            "        [[-0.3162, -0.1793],\n",
            "         [ 1.2139, -0.6413],\n",
            "         [ 0.7195, -0.6032]],\n",
            "\n",
            "        [[ 1.2139, -0.6413],\n",
            "         [ 0.7195, -0.6032],\n",
            "         [ 1.2139, -0.6413]],\n",
            "\n",
            "        [[-0.3162, -0.1793],\n",
            "         [-0.3162, -0.1793],\n",
            "         [-0.3162, -0.1793]],\n",
            "\n",
            "        [[-0.3162, -0.1793],\n",
            "         [-0.3162, -0.1793],\n",
            "         [-0.7619,  0.4143]],\n",
            "\n",
            "        [[-0.3162, -0.1793],\n",
            "         [-0.7619,  0.4143],\n",
            "         [ 1.8525, -0.5796]],\n",
            "\n",
            "        [[-0.7619,  0.4143],\n",
            "         [ 1.8525, -0.5796],\n",
            "         [ 1.2139, -0.6413]],\n",
            "\n",
            "        [[ 1.8525, -0.5796],\n",
            "         [ 1.2139, -0.6413],\n",
            "         [-0.2229, -0.4461]],\n",
            "\n",
            "        [[ 1.2139, -0.6413],\n",
            "         [-0.2229, -0.4461],\n",
            "         [-0.3975,  0.1374]],\n",
            "\n",
            "        [[-0.2229, -0.4461],\n",
            "         [-0.3975,  0.1374],\n",
            "         [-1.1595, -0.3388]],\n",
            "\n",
            "        [[-0.3975,  0.1374],\n",
            "         [-1.1595, -0.3388],\n",
            "         [-1.1595, -0.3388]],\n",
            "\n",
            "        [[-1.1595, -0.3388],\n",
            "         [-1.1595, -0.3388],\n",
            "         [ 1.2139, -0.6413]],\n",
            "\n",
            "        [[-0.3162, -0.1793],\n",
            "         [-0.3162, -0.1793],\n",
            "         [-0.3162, -0.1793]],\n",
            "\n",
            "        [[-0.3162, -0.1793],\n",
            "         [-0.3162, -0.1793],\n",
            "         [ 1.8525, -0.5796]],\n",
            "\n",
            "        [[-0.3162, -0.1793],\n",
            "         [ 1.8525, -0.5796],\n",
            "         [ 0.9383,  0.2775]],\n",
            "\n",
            "        [[ 1.8525, -0.5796],\n",
            "         [ 0.9383,  0.2775],\n",
            "         [-0.9693,  0.3385]],\n",
            "\n",
            "        [[ 0.9383,  0.2775],\n",
            "         [-0.9693,  0.3385],\n",
            "         [-0.3543,  0.7040]],\n",
            "\n",
            "        [[-0.9693,  0.3385],\n",
            "         [-0.3543,  0.7040],\n",
            "         [-0.7619,  0.4143]],\n",
            "\n",
            "        [[-0.3543,  0.7040],\n",
            "         [-0.7619,  0.4143],\n",
            "         [ 1.2139, -0.6413]]])\n"
          ]
        }
      ]
    },
    {
      "cell_type": "code",
      "source": [
        "Y.shape\n",
        "probs = torch.randn((32,27))\n",
        "\n",
        "probs = probs [torch.arange(32) , Y ]\n",
        "probs\n"
      ],
      "metadata": {
        "colab": {
          "base_uri": "https://localhost:8080/"
        },
        "id": "WNBlqXSYXXI_",
        "outputId": "4eeed015-c612-41b5-d067-1faf3f1ee103"
      },
      "execution_count": 10,
      "outputs": [
        {
          "output_type": "execute_result",
          "data": {
            "text/plain": [
              "tensor([ 0.2798,  0.7793,  1.2063,  0.9536, -0.7616,  0.8895, -0.1973, -0.9056,\n",
              "         0.5317,  1.1537, -0.2318,  0.5476,  1.1214, -1.6020, -0.9319, -0.5172,\n",
              "         1.1470,  1.0026,  0.8071,  0.6682, -1.0521,  1.2160,  0.7493,  1.2310,\n",
              "        -0.2268,  0.7899,  0.2075,  0.4923, -1.0376, -1.0894, -0.0857,  1.1197])"
            ]
          },
          "metadata": {},
          "execution_count": 10
        }
      ]
    },
    {
      "cell_type": "code",
      "source": [
        "import torch\n",
        "\n",
        "# Matrix b of shape (5, 3)\n",
        "b = torch.tensor([[10, 20, 30],\n",
        "                  [40, 50, 60],\n",
        "                  [70, 80, 90],\n",
        "                  [100, 110, 120],\n",
        "                  [130, 140, 150]])\n",
        "\n",
        "# Index matrix a (must contain valid row indices for b)\n",
        "a = torch.tensor([[0, 2],   # Index rows 0 and 2\n",
        "                  [3, 4]])  # Index rows 3 and 4\n",
        "\n",
        "# Indexing matrix b using a\n",
        "c = b[a]\n",
        "print (c.shape)\n",
        "print (a.shape)\n",
        "print (b.shape)\n",
        "print(c)\n"
      ],
      "metadata": {
        "colab": {
          "base_uri": "https://localhost:8080/"
        },
        "id": "q8NU0nRCRUlw",
        "outputId": "14743496-61ca-45aa-dfa9-58e8c8290db6"
      },
      "execution_count": 11,
      "outputs": [
        {
          "output_type": "stream",
          "name": "stdout",
          "text": [
            "torch.Size([2, 2, 3])\n",
            "torch.Size([2, 2])\n",
            "torch.Size([5, 3])\n",
            "tensor([[[ 10,  20,  30],\n",
            "         [ 70,  80,  90]],\n",
            "\n",
            "        [[100, 110, 120],\n",
            "         [130, 140, 150]]])\n"
          ]
        }
      ]
    },
    {
      "cell_type": "code",
      "source": [
        "# buliding dataset\n",
        "block_size = 3\n",
        "def build_dataset (words):\n",
        "  X , Y = [],[]\n",
        "  for word in words :\n",
        "    context = [0] * block_size\n",
        "    for ch in word + '.' :\n",
        "      ix = stoi[ch]\n",
        "      X.append(context)\n",
        "      Y.append(ix)\n",
        "      context = context [1:] + [ix]\n",
        "  X = torch.tensor(X)\n",
        "  Y = torch.tensor(Y)\n",
        "  print(X.shape,Y.shape)\n",
        "  return X , Y\n",
        "\n",
        "import random\n",
        "random.seed(42)\n",
        "random.shuffle(words)\n",
        "n1 = int(0.8 * len (words))\n",
        "n2 = int(0.9 * len (words))\n",
        "Xtr,Ytr = build_dataset(words[:n1])\n",
        "Xdev,Ydev = build_dataset(words[n1:n2])\n",
        "Xtest,Ytest = build_dataset(words[n2:])\n",
        "tensors = [Xtr,Ytr,Xdev,Ydev,Xtest,Ytest]\n"
      ],
      "metadata": {
        "colab": {
          "base_uri": "https://localhost:8080/"
        },
        "id": "rB_Lc7z9t2Xd",
        "outputId": "b434b556-2bc1-401a-d52d-b135d2816b8d"
      },
      "execution_count": 12,
      "outputs": [
        {
          "output_type": "stream",
          "name": "stdout",
          "text": [
            "torch.Size([182625, 3]) torch.Size([182625])\n",
            "torch.Size([22655, 3]) torch.Size([22655])\n",
            "torch.Size([22866, 3]) torch.Size([22866])\n"
          ]
        }
      ]
    },
    {
      "cell_type": "code",
      "source": [
        "g = torch.Generator().manual_seed(2000200022) # for reproducibility\n",
        "C = torch.randn((27,10) , generator = g)\n",
        "W1 = torch.randn((30,200) , generator = g)\n",
        "b1 = torch.randn(200 , generator = g)\n",
        "W2 = torch.randn((200,27) , generator = g)\n",
        "b2 = torch.randn(27 , generator = g)\n",
        "parameters = [C,W1,b1,W2,b2]\n",
        "sum(p.nelement()for p in parameters)"
      ],
      "metadata": {
        "id": "VelrtRiE0vB5",
        "colab": {
          "base_uri": "https://localhost:8080/"
        },
        "outputId": "3e0b4390-94be-4b70-d9a4-92dd805c94ed"
      },
      "execution_count": 13,
      "outputs": [
        {
          "output_type": "execute_result",
          "data": {
            "text/plain": [
              "11897"
            ]
          },
          "metadata": {},
          "execution_count": 13
        }
      ]
    },
    {
      "cell_type": "code",
      "source": [
        "for p in parameters :\n",
        "  p.requires_grad = True"
      ],
      "metadata": {
        "id": "iO81dnAChUWz"
      },
      "execution_count": 14,
      "outputs": []
    },
    {
      "cell_type": "code",
      "source": [
        "lre = torch.linspace(-3, 0, 1000)\n",
        "lrs = 10**lre\n",
        "lri = []\n",
        "lossi = []\n",
        "stepi = []"
      ],
      "metadata": {
        "id": "wV20vLW9hfuX"
      },
      "execution_count": 15,
      "outputs": []
    },
    {
      "cell_type": "code",
      "source": [
        "for i in range(200000):\n",
        "\n",
        "  # minibatch construct\n",
        "  ix = torch.randint(0, Xtr.shape[0], (32,))\n",
        "\n",
        "  # forward pass\n",
        "  emb = C[Xtr[ix]] # (32, 3, 10)\n",
        "  h = torch.tanh(emb.view(-1, 30) @ W1 + b1) # (32, 200)\n",
        "  logits = h @ W2 + b2 # (32, 27)\n",
        "  loss = F.cross_entropy(logits, Ytr[ix])\n",
        "  #print(loss.item())\n",
        "\n",
        "  # backward pass\n",
        "  for p in parameters:\n",
        "    p.grad = None\n",
        "  loss.backward()\n",
        "\n",
        "  # update\n",
        "  #lr = lrs[i]\n",
        "  lr = 0.1 if i < 100000 else 0.01\n",
        "  for p in parameters:\n",
        "    p.data += -lr * p.grad\n",
        "\n",
        "  # track stats\n",
        "  #lri.append(lre[i])\n",
        "  stepi.append(i)\n",
        "  lossi.append(loss.log10().item())\n",
        "\n",
        "#print(loss.item())"
      ],
      "metadata": {
        "id": "GxgjI6M5hmLB"
      },
      "execution_count": 24,
      "outputs": []
    },
    {
      "cell_type": "code",
      "source": [
        "plt.plot(stepi, lossi)"
      ],
      "metadata": {
        "colab": {
          "base_uri": "https://localhost:8080/",
          "height": 447
        },
        "id": "RWNWWUXElaHS",
        "outputId": "7b92d10c-4bdf-4600-8405-f2c1607fd109"
      },
      "execution_count": 25,
      "outputs": [
        {
          "output_type": "execute_result",
          "data": {
            "text/plain": [
              "[<matplotlib.lines.Line2D at 0x78ac6d44d0c0>]"
            ]
          },
          "metadata": {},
          "execution_count": 25
        },
        {
          "output_type": "display_data",
          "data": {
            "text/plain": [
              "<Figure size 640x480 with 1 Axes>"
            ],
            "image/png": "[encoded data removed]"
          },
          "metadata": {}
        }
      ]
    },
    {
      "cell_type": "code",
      "source": [
        "emb = C[Xtr] # (32, 3, 2)\n",
        "h = torch.tanh(emb.view(-1, 30) @ W1 + b1) # (32, 100)\n",
        "logits = h @ W2 + b2 # (32, 27)\n",
        "loss = F.cross_entropy(logits, Ytr)\n",
        "loss"
      ],
      "metadata": {
        "colab": {
          "base_uri": "https://localhost:8080/"
        },
        "id": "v7uSOx2HioZO",
        "outputId": "872cbe39-d525-4942-d66c-a0b057154e72"
      },
      "execution_count": 26,
      "outputs": [
        {
          "output_type": "execute_result",
          "data": {
            "text/plain": [
              "tensor(2.1123, grad_fn=<NllLossBackward0>)"
            ]
          },
          "metadata": {},
          "execution_count": 26
        }
      ]
    },
    {
      "cell_type": "code",
      "source": [
        "emb = C[Xdev] # (32, 3, 2)\n",
        "h = torch.tanh(emb.view(-1, 30) @ W1 + b1) # (32, 100)\n",
        "logits = h @ W2 + b2 # (32, 27)\n",
        "loss = F.cross_entropy(logits, Ydev)\n",
        "loss"
      ],
      "metadata": {
        "colab": {
          "base_uri": "https://localhost:8080/"
        },
        "id": "fR0_w-BYmDsz",
        "outputId": "0e21233a-eb16-464e-f5e5-5b408a443280"
      },
      "execution_count": 27,
      "outputs": [
        {
          "output_type": "execute_result",
          "data": {
            "text/plain": [
              "tensor(2.1611, grad_fn=<NllLossBackward0>)"
            ]
          },
          "metadata": {},
          "execution_count": 27
        }
      ]
    },
    {
      "cell_type": "code",
      "source": [
        "# visualize dimensions 0 and 1 of the embedding matrix C for all characters\n",
        "plt.figure(figsize=(8,8))\n",
        "plt.scatter(C[:,0].data, C[:,1].data, s=200)\n",
        "for i in range(C.shape[0]):\n",
        "    plt.text(C[i,0].item(), C[i,1].item(), itos[i], ha=\"center\", va=\"center\", color='white')\n",
        "plt.grid('minor')"
      ],
      "metadata": {
        "colab": {
          "base_uri": "https://localhost:8080/",
          "height": 676
        },
        "id": "2GSvz0bYmDg1",
        "outputId": "a691c845-3df5-45b2-bc11-f40489a405df"
      },
      "execution_count": 28,
      "outputs": [
        {
          "output_type": "display_data",
          "data": {
            "text/plain": [
              "<Figure size 800x800 with 1 Axes>"
            ],
            "image/png": "[encoded data removed]"
          },
          "metadata": {}
        }
      ]
    },
    {
      "cell_type": "code",
      "source": [
        "context = [0] * block_size\n",
        "C[torch.tensor([context])].shape"
      ],
      "metadata": {
        "colab": {
          "base_uri": "https://localhost:8080/"
        },
        "id": "my2zUnHqmRXf",
        "outputId": "0ef0dc19-8532-474e-834f-c71cd3d7dfe8"
      },
      "execution_count": 29,
      "outputs": [
        {
          "output_type": "execute_result",
          "data": {
            "text/plain": [
              "torch.Size([1, 3, 10])"
            ]
          },
          "metadata": {},
          "execution_count": 29
        }
      ]
    },
    {
      "cell_type": "code",
      "source": [
        "# sample from the model\n",
        "g = torch.Generator().manual_seed(2147483647 + 10)\n",
        "\n",
        "for _ in range(20):\n",
        "\n",
        "    out = []\n",
        "    context = [0] * block_size # initialize with all ...\n",
        "    while True:\n",
        "      emb = C[torch.tensor([context])] # (1,block_size,d)\n",
        "      h = torch.tanh(emb.view(1, -1) @ W1 + b1)\n",
        "      logits = h @ W2 + b2\n",
        "      probs = F.softmax(logits, dim=1)\n",
        "      ix = torch.multinomial(probs, num_samples=1, generator=g).item()\n",
        "      context = context[1:] + [ix]\n",
        "      out.append(ix)\n",
        "      if ix == 0:\n",
        "        break\n",
        "\n",
        "    print(''.join(itos[i] for i in out))"
      ],
      "metadata": {
        "colab": {
          "base_uri": "https://localhost:8080/"
        },
        "id": "_GRyOOq7mRH3",
        "outputId": "83749b74-a957-40db-966b-2869ca66ad0f"
      },
      "execution_count": 30,
      "outputs": [
        {
          "output_type": "stream",
          "name": "stdout",
          "text": [
            "mona.\n",
            "kmynahiee.\n",
            "med.\n",
            "ryla.\n",
            "rethrettedra.\n",
            "gradeer.\n",
            "selin.\n",
            "shi.\n",
            "jenre.\n",
            "elie.\n",
            "nazarleigh.\n",
            "malyan.\n",
            "nosadherg.\n",
            "hiriel.\n",
            "kendreelynn.\n",
            "nohana.\n",
            "uba.\n",
            "ged.\n",
            "ryylene.\n",
            "els.\n"
          ]
        }
      ]
    }
  ]
}