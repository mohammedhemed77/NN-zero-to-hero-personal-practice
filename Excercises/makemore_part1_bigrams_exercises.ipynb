{
  "nbformat": 4,
  "nbformat_minor": 0,
  "metadata": {
    "colab": {
      "provenance": [],
      "authorship_tag": "ABX9TyMqIfL6uy7gMF4YmavSGkZc",
      "include_colab_link": true
    },
    "kernelspec": {
      "name": "python3",
      "display_name": "Python 3"
    },
    "language_info": {
      "name": "python"
    }
  },
  "cells": [
    {
      "cell_type": "markdown",
      "metadata": {
        "id": "view-in-github",
        "colab_type": "text"
      },
      "source": [
        "<a href=\"https://colab.research.google.com/github/mohammedhemed77/NN-zero-to-hero-personal-practice/blob/main/makemore_part1_bigrams_exercises.ipynb\" target=\"_parent\"><img src=\"https://colab.research.google.com/assets/colab-badge.svg\" alt=\"Open In Colab\"/></a>"
      ]
    },
    {
      "cell_type": "code",
      "execution_count": null,
      "metadata": {
        "id": "ZDVJGUFIoWOv"
      },
      "outputs": [],
      "source": [
        "#E01: train a trigram language model, i.e.\n",
        "# take two characters as an input to predict the 3rd one.\n",
        "# Feel free to use either counting or a neural net.\n",
        "# Evaluate the loss; Did it improve over a bigram model?"
      ]
    },
    {
      "cell_type": "code",
      "source": [
        "import torch\n",
        "import torch.nn.functional as F\n",
        "import matplotlib.pyplot as plt"
      ],
      "metadata": {
        "id": "PERY0LdBquMj"
      },
      "execution_count": null,
      "outputs": []
    },
    {
      "cell_type": "code",
      "source": [
        "# load the dataset into massive string\n",
        "words = open('names.txt','r').read().splitlines()\n",
        "\n",
        "for w in words[:1]:\n",
        "  for ch1,ch2 in zip(w , w[1:]):\n",
        "    print (ch1,ch2)\n",
        "\n",
        "# display first 7 words\n",
        "words [:7]\n",
        "\n",
        "print (\"dataset words = \" , len(words))\n",
        "print (\"minimum word length = \",min (len (w) for w in words))\n",
        "print (\"maximum word length = \",max (len (w) for w in words))\n"
      ],
      "metadata": {
        "colab": {
          "base_uri": "https://localhost:8080/"
        },
        "id": "mZqgEbGbsjJO",
        "outputId": "9c77aab4-c816-42dd-9671-b7661c2c9fe0"
      },
      "execution_count": null,
      "outputs": [
        {
          "output_type": "stream",
          "name": "stdout",
          "text": [
            "e m\n",
            "m m\n",
            "m a\n",
            "dataset words =  32033\n",
            "minimum word length =  2\n",
            "maximum word length =  15\n"
          ]
        }
      ]
    },
    {
      "cell_type": "code",
      "source": [
        "# using counters\n",
        "N = torch.ones((27,27,27),dtype = torch.float32)\n",
        "N[0,0,0] = 0\n",
        "# concat all words in single string\n",
        "# concatenate all words into single string\n",
        "massive_string = list (''.join(words))\n",
        "print (len(massive_string))\n",
        "print (len(words))\n",
        "chars = sorted(list(set(''.join(words))))\n",
        "\n",
        "# mapping chars into integers and integrs into chars via 2 dic :\n",
        "stoi = {s:i+1 for i,s in enumerate(chars)}\n",
        "stoi['.'] = 0\n",
        "itos = {i:s for s,i in stoi.items()}"
      ],
      "metadata": {
        "colab": {
          "base_uri": "https://localhost:8080/"
        },
        "id": "Xhop2zMqsxyP",
        "outputId": "1f2cfc98-d938-4a5a-d62a-5a0851a83573"
      },
      "execution_count": null,
      "outputs": [
        {
          "output_type": "stream",
          "name": "stdout",
          "text": [
            "196113\n",
            "32033\n"
          ]
        }
      ]
    },
    {
      "cell_type": "code",
      "source": [
        "for w in words :\n",
        "  chs = ['.'] + list(w) + ['.']\n",
        "  for ch1 , ch2 , ch3 in zip (chs , chs[1:],chs[2:]):\n",
        "    ix1 = stoi[ch1]\n",
        "    ix2 = stoi[ch2]\n",
        "    ix3 = stoi[ch3]\n",
        "    N[ix1,ix2,ix3] += 1\n",
        "\n",
        "P = N / N.sum(dim =2, keepdim = True)"
      ],
      "metadata": {
        "id": "HYPpcJWhvD59"
      },
      "execution_count": null,
      "outputs": []
    },
    {
      "cell_type": "code",
      "source": [
        "# loss :\n",
        "def calculate_loss(input_set):\n",
        "  log_likelihood = 0.0\n",
        "  n = 0\n",
        "  for w in input_set :\n",
        "    chs = ['.'] + list(w) + ['.']\n",
        "    for ch1 , ch2 , ch3 in zip(w,w[1:],w[2:]):\n",
        "      ix1 = stoi[ch1]\n",
        "      ix2 = stoi[ch2]\n",
        "      ix3 = stoi[ch3]\n",
        "\n",
        "      prob = P[ix1,ix2,ix3]\n",
        "      log_prob = torch.log(prob)\n",
        "      log_likelihood += log_prob\n",
        "      n+=1\n",
        "  nll = -log_likelihood\n",
        "  print (f'log_likelihood = {log_likelihood}')\n",
        "  print (f'negative log likelihood = {nll} ')\n",
        "  print (f'Average negative log likelihood = {nll/n}')\n",
        "\n",
        "\n",
        "print (f'training loss : ')\n",
        "calculate_loss(words)\n"
      ],
      "metadata": {
        "colab": {
          "base_uri": "https://localhost:8080/"
        },
        "id": "XV_PGFcB7B5Y",
        "outputId": "6dab6470-2409-4a48-c41d-a98fa0559d15"
      },
      "execution_count": null,
      "outputs": [
        {
          "output_type": "stream",
          "name": "stdout",
          "text": [
            "training loss : \n",
            "log_likelihood = -307831.9375\n",
            "negative log likelihood = 307831.9375 \n",
            "Average negative log likelihood = 2.3312301635742188\n"
          ]
        }
      ]
    },
    {
      "cell_type": "code",
      "source": [
        "# using NN\n",
        "# Prepare the training set\n",
        "xs , ys = [], []\n",
        "\n",
        "for w in words:\n",
        "    # add start and end tokens\n",
        "    chs = [\".\"] + list(w) + [\".\"]\n",
        "    for ch1, ch2, ch3 in zip(chs, chs[1:], chs[2:]):\n",
        "        ix1 = stoi[ch1]\n",
        "        ix2 = stoi[ch2]\n",
        "        ix3 = stoi[ch3]\n",
        "        #print (itos[ix1],itos[ix2],itos[ix3],\"\\n\")\n",
        "        xs.append([ix1, ix2])\n",
        "        ys.append(ix3)\n",
        "\n",
        "xs = torch.tensor(xs, dtype=torch.int64)\n",
        "ys = torch.tensor(ys, dtype=torch.int64)\n",
        "\n",
        "\n",
        "print (xs.shape)\n",
        "print (ys.shape)\n",
        "\n"
      ],
      "metadata": {
        "colab": {
          "base_uri": "https://localhost:8080/"
        },
        "id": "vOpHq-9w5SxA",
        "outputId": "1349caa3-4774-4753-a681-d4372634c6f6"
      },
      "execution_count": null,
      "outputs": [
        {
          "output_type": "stream",
          "name": "stdout",
          "text": [
            "torch.Size([196113, 2])\n",
            "torch.Size([196113])\n"
          ]
        }
      ]
    },
    {
      "cell_type": "code",
      "source": [
        "W = torch.randn((27*2,27), requires_grad = True)\n",
        "for k in range(200):\n",
        "    # forward pass\n",
        "    xenc = F.one_hot(xs, num_classes = 27).float()\n",
        "    xenc = xenc.view(-1, 27*2)\n",
        "    # probs is softmax\n",
        "    logits = xenc @ W\n",
        "    counts = torch.exp(logits)\n",
        "    probs = counts / counts.sum(dim = 1, keepdim = True)\n",
        "\n",
        "    # loss (normalized negative log likelihood)\n",
        "    loss = - probs[torch.arange(len(xs)), ys].log().mean()\n",
        "    # add regularization\n",
        "    loss += 0.2 * W.pow(2).mean()\n",
        "\n",
        "    if k % 10 == 0:\n",
        "        print(f\"{k}: {loss.item():.4f}\")\n",
        "\n",
        "    # backward pass\n",
        "    W.grad = None\n",
        "    loss.backward()\n",
        "\n",
        "    # update weights\n",
        "    with torch.no_grad():\n",
        "        W -= 50 * W.grad"
      ],
      "metadata": {
        "colab": {
          "base_uri": "https://localhost:8080/"
        },
        "id": "RqEUMYaM5Wr1",
        "outputId": "3a1b064a-9633-41db-84e7-c56abcace277"
      },
      "execution_count": null,
      "outputs": [
        {
          "output_type": "stream",
          "name": "stdout",
          "text": [
            "0: 4.4154\n",
            "10: 0.2874\n",
            "20: 0.2465\n",
            "30: 0.2208\n",
            "40: 0.2022\n",
            "50: 0.1884\n",
            "60: 0.1780\n",
            "70: 0.1703\n",
            "80: 0.1645\n",
            "90: 0.1602\n",
            "100: 0.1569\n",
            "110: 0.1545\n",
            "120: 0.1526\n",
            "130: 0.1513\n",
            "140: 0.1502\n",
            "150: 0.1494\n",
            "160: 0.1488\n",
            "170: 0.1484\n",
            "180: 0.1481\n",
            "190: 0.1478\n"
          ]
        }
      ]
    },
    {
      "cell_type": "code",
      "source": [
        "names = []\n",
        "for i in range(10):\n",
        "    out = []\n",
        "    ix1, ix2 = 0, 0\n",
        "    while True:\n",
        "        # previosly we used P[ix]\n",
        "        # p = P[ix]\n",
        "\n",
        "        # now we use the softmax of the logits\n",
        "        xenc = F.one_hot(torch.tensor([ix1, ix2]), num_classes = 27).float()\n",
        "        xenc = xenc.view(-1, 27*2)\n",
        "\n",
        "        logits = xenc @ W\n",
        "        counts = torch.exp(logits)\n",
        "        p = counts / counts.sum(dim = 1, keepdim = True)\n",
        "\n",
        "        ix1 = ix2\n",
        "        ix2 = torch.multinomial(p, num_samples = 1 , replacement = True).item()\n",
        "        out.append(itos[ix2])\n",
        "        if ix2 == 0:\n",
        "            break\n",
        "\n",
        "    names.append(\"\".join(out))\n",
        "\n",
        "for name in names:\n",
        "    print(name)\n",
        "\n",
        "calculate_loss(names)"
      ],
      "metadata": {
        "id": "HCpjidMv5tfs"
      },
      "execution_count": null,
      "outputs": []
    },
    {
      "cell_type": "code",
      "source": [
        "a = torch.range(1,16)\n",
        "print (a)\n",
        "a = a.view(-1,4)\n",
        "print (a.view(4,-1))\n",
        "print(a)"
      ],
      "metadata": {
        "id": "c4mrzdp_pAa6"
      },
      "execution_count": null,
      "outputs": []
    },
    {
      "cell_type": "code",
      "source": [
        "print (W.shape)\n",
        "print(xenc.shape)\n"
      ],
      "metadata": {
        "colab": {
          "base_uri": "https://localhost:8080/"
        },
        "id": "YH-ufTQGpDEY",
        "outputId": "46884c30-425e-456d-e581-debf85be6bf8"
      },
      "execution_count": null,
      "outputs": [
        {
          "output_type": "stream",
          "name": "stdout",
          "text": [
            "torch.Size([54, 27])\n",
            "torch.Size([196113, 54])\n"
          ]
        }
      ]
    },
    {
      "cell_type": "code",
      "source": [
        "import torch\n",
        "import torch.nn.functional as F\n",
        "indices = torch.tensor ([3,4,5,6,8])\n",
        "# num_classes = 5\n",
        "one_hot_encoded = F.one_hot(indices,num_classes=10)\n",
        "\n",
        "print (f'indices ={indices} ')\n",
        "print (f'one_hot_encoded = {one_hot_encoded}')\n"
      ],
      "metadata": {
        "id": "Wb3YOWttvjBy",
        "colab": {
          "base_uri": "https://localhost:8080/"
        },
        "outputId": "b8be8709-455a-4c33-ec9d-2d50f6fe4d39"
      },
      "execution_count": 32,
      "outputs": [
        {
          "output_type": "stream",
          "name": "stdout",
          "text": [
            "indices =tensor([3, 4, 5, 6, 8]) \n",
            "one_hot_encoded = tensor([[0, 0, 0, 1, 0, 0, 0, 0, 0, 0],\n",
            "        [0, 0, 0, 0, 1, 0, 0, 0, 0, 0],\n",
            "        [0, 0, 0, 0, 0, 1, 0, 0, 0, 0],\n",
            "        [0, 0, 0, 0, 0, 0, 1, 0, 0, 0],\n",
            "        [0, 0, 0, 0, 0, 0, 0, 0, 1, 0]])\n"
          ]
        }
      ]
    },
    {
      "cell_type": "markdown",
      "source": [
        "***E02: split up the dataset randomly into 80% train set, 10% dev set, 10% test set***"
      ],
      "metadata": {
        "id": "Wq6VQl_a40No"
      }
    },
    {
      "cell_type": "code",
      "source": [
        "from sklearn.model_selection import train_test_split\n",
        "\n",
        "words_train , words_test = train_test_split(words,test_size=0.2,random_state=1234)\n",
        "\n",
        "words_dev , words_test   = train_test_split(words_test,test_size=0.5,random_state=1234)\n",
        "\n",
        "x_train , y_train , x_dev , y_dev , x_test , y_test = [],[],[],[],[],[]\n",
        "\n",
        "# list of lists\n",
        "\n",
        "for wgroup in [words_train,words_dev,words_test]:\n",
        "  xs , ys = [],[]\n",
        "  for w in wgroup:\n",
        "    chs = ['.']+list(w)+['.']\n",
        "    for ch1,ch2,ch3 in zip(chs,chs[1:],chs[2:]):\n",
        "      ix1 = stoi[ch1]\n",
        "      ix2 = stoi[ch2]\n",
        "      ix3 = stoi[ch3]\n",
        "      xs.append([ix1,ix2])\n",
        "      ys.append(ix3)\n",
        "\n",
        "  xs = torch.tensor(xs,dtype=torch.int64)\n",
        "  ys = torch.tensor(ys,dtype=torch.int64)\n",
        "\n",
        "  if wgroup == words_train : x_train,y_train = xs , ys\n",
        "  elif wgroup == words_dev : x_dev , y_dev   = xs , ys\n",
        "  else: x_test,y_test = xs,ys\n",
        "\n"
      ],
      "metadata": {
        "id": "80mjau9g49Zx"
      },
      "execution_count": 39,
      "outputs": []
    },
    {
      "cell_type": "code",
      "source": [
        "for k in range(200):\n",
        "    # forward pass\n",
        "    xenc = F.one_hot(x_train, num_classes = 27).float()\n",
        "    xenc = xenc.view(-1, 27*2)\n",
        "\n",
        "    # probs is softmax\n",
        "    logits = xenc @ W\n",
        "    counts = torch.exp(logits)\n",
        "    probs = counts / counts.sum(dim = 1, keepdim = True)\n",
        "\n",
        "    # loss (normalized negative log likelihood)\n",
        "    loss = - probs[torch.arange(len(x_train)), y_train].log().mean()\n",
        "    # add regularization\n",
        "    # loss += 0.2 * W.pow(2).mean()\n",
        "\n",
        "    if k % 10 == 0:\n",
        "        print(f\"{k}: {loss.item():.4f}\")\n",
        "\n",
        "    # backward pass\n",
        "    W.grad = None\n",
        "    loss.backward()\n",
        "\n",
        "    # update weights\n",
        "    with torch.no_grad():\n",
        "        W -= 50 * W.grad"
      ],
      "metadata": {
        "id": "v9_9Ox6g6Rov",
        "colab": {
          "base_uri": "https://localhost:8080/"
        },
        "outputId": "d1161ad3-f452-4adb-beb6-33feda6af6a4"
      },
      "execution_count": 41,
      "outputs": [
        {
          "output_type": "stream",
          "name": "stdout",
          "text": [
            "0: 4.9474\n",
            "10: 2.3903\n",
            "20: 2.3183\n",
            "30: 2.2936\n",
            "40: 2.2810\n",
            "50: 2.2731\n",
            "60: 2.2676\n",
            "70: 2.2635\n",
            "80: 2.2604\n",
            "90: 2.2579\n",
            "100: 2.2558\n",
            "110: 2.2541\n",
            "120: 2.2526\n",
            "130: 2.2514\n",
            "140: 2.2503\n",
            "150: 2.2493\n",
            "160: 2.2485\n",
            "170: 2.2477\n",
            "180: 2.2471\n",
            "190: 2.2464\n"
          ]
        }
      ]
    },
    {
      "cell_type": "code",
      "source": [
        "def MLP_loss(x, y, W):\n",
        "    xenc = F.one_hot(x, num_classes = 27).float()\n",
        "    xenc = xenc.view(-1, 27*2)\n",
        "\n",
        "    # probs is softmax\n",
        "    logits = xenc @ W\n",
        "    counts = torch.exp(logits)\n",
        "    probs = counts / counts.sum(dim = 1, keepdim = True)\n",
        "\n",
        "    # loss (normalized negative log likelihood)\n",
        "    loss = - probs[torch.arange(len(x)), y].log().mean()\n",
        "    return loss.item()"
      ],
      "metadata": {
        "id": "KCZKgIQF_Q2X"
      },
      "execution_count": 42,
      "outputs": []
    },
    {
      "cell_type": "code",
      "source": [
        "print(f\"Train Loss: {MLP_loss(x_train, y_train, W):.4f}\")\n",
        "print(f\"Dev Loss: {MLP_loss(x_dev, y_dev, W):.4f}\")\n",
        "print(f\"Test Loss: {MLP_loss(x_test, y_test, W):.4f}\")"
      ],
      "metadata": {
        "colab": {
          "base_uri": "https://localhost:8080/"
        },
        "id": "NRYus4KnBCYd",
        "outputId": "9bfe4a86-da25-4984-b7ba-464f1d09af0d"
      },
      "execution_count": 43,
      "outputs": [
        {
          "output_type": "stream",
          "name": "stdout",
          "text": [
            "Train Loss: 2.2459\n",
            "Dev Loss: 2.2510\n",
            "Test Loss: 2.2489\n"
          ]
        }
      ]
    },
    {
      "cell_type": "markdown",
      "source": [
        "***E03: use the dev set to tune the strength of smoothing (or regularization) for the trigram model*** *italicised text*"
      ],
      "metadata": {
        "id": "67yHmpEtBQ5x"
      }
    },
    {
      "cell_type": "code",
      "source": [
        "W = torch.randn((27*2,27), requires_grad = True)\n",
        "for k in range(200):\n",
        "    # forward pass\n",
        "    xenc = F.one_hot(x_train, num_classes = 27).float()\n",
        "    xenc = xenc.view(-1, 27*2)\n",
        "\n",
        "    # probs is softmax\n",
        "    logits = xenc @ W\n",
        "    counts = torch.exp(logits)\n",
        "    probs = counts / counts.sum(dim = 1, keepdim = True)\n",
        "\n",
        "    # loss (normalized negative log likelihood)\n",
        "    loss = - probs[torch.arange(len(x_train)), y_train].log().mean()\n",
        "    # add regularization\n",
        "    # loss += 0.05 * W.pow(2).mean()\n",
        "\n",
        "    if k % 10 == 0:\n",
        "        print(f\"{k}: Train Loss: {loss.item():.4f} | Dev Loss {MLP_loss(x_dev, y_dev, W):.4f}\")\n",
        "\n",
        "    # backward pass\n",
        "    W.grad = None\n",
        "    loss.backward()\n",
        "\n",
        "    # update weights\n",
        "    with torch.no_grad():\n",
        "        W -= 50 * W.grad"
      ],
      "metadata": {
        "colab": {
          "base_uri": "https://localhost:8080/"
        },
        "id": "sDk-qOmqBT0r",
        "outputId": "bf8383b0-a0b3-4023-d377-d931fba5d07d"
      },
      "execution_count": 45,
      "outputs": [
        {
          "output_type": "stream",
          "name": "stdout",
          "text": [
            "0: Train Loss: 4.2715 | Dev Loss 4.2730\n",
            "10: Train Loss: 2.4919 | Dev Loss 2.5001\n",
            "20: Train Loss: 2.3737 | Dev Loss 2.3790\n",
            "30: Train Loss: 2.3283 | Dev Loss 2.3327\n",
            "40: Train Loss: 2.3049 | Dev Loss 2.3089\n",
            "50: Train Loss: 2.2907 | Dev Loss 2.2945\n",
            "60: Train Loss: 2.2812 | Dev Loss 2.2850\n",
            "70: Train Loss: 2.2744 | Dev Loss 2.2782\n",
            "80: Train Loss: 2.2693 | Dev Loss 2.2732\n",
            "90: Train Loss: 2.2653 | Dev Loss 2.2692\n",
            "100: Train Loss: 2.2621 | Dev Loss 2.2661\n",
            "110: Train Loss: 2.2594 | Dev Loss 2.2636\n",
            "120: Train Loss: 2.2573 | Dev Loss 2.2615\n",
            "130: Train Loss: 2.2554 | Dev Loss 2.2598\n",
            "140: Train Loss: 2.2539 | Dev Loss 2.2583\n",
            "150: Train Loss: 2.2525 | Dev Loss 2.2570\n",
            "160: Train Loss: 2.2513 | Dev Loss 2.2559\n",
            "170: Train Loss: 2.2503 | Dev Loss 2.2550\n",
            "180: Train Loss: 2.2493 | Dev Loss 2.2541\n",
            "190: Train Loss: 2.2485 | Dev Loss 2.2534\n"
          ]
        }
      ]
    },
    {
      "cell_type": "markdown",
      "source": [
        "***E04: Rewrite the MLP model without creating one hot vectors\n",
        "we saw that our 1-hot vectors merely select a row of W,\n",
        " so producing these vectors explicitly feels wasteful.\n",
        " Can you delete our use of F.one_hot in favor of simply indexing into rows of W?***"
      ],
      "metadata": {
        "id": "r5HWZIcbCUKu"
      }
    },
    {
      "cell_type": "code",
      "source": [
        "W = torch.randn((27*2,27), requires_grad = True)\n",
        "for k in range(200):\n",
        "    # forward pass\n",
        "    # ====================\n",
        "    # Previously: using onehot and multiplying by W\n",
        "    # xenc = F.one_hot(xs, num_classes = 27).float().to(device)\n",
        "    # xenc = xenc.view(-1, 27*2)\n",
        "    # logits = xenc @ W\n",
        "    # ====================\n",
        "\n",
        "    # ====================\n",
        "    # ✅ now: acess by xs indices directly\n",
        "    logits = W[xs[:,0]] + W[xs[:,1] + 27]\n",
        "    # ====================\n",
        "\n",
        "    counts = torch.exp(logits)\n",
        "    probs = counts / counts.sum(dim = 1, keepdim = True)\n",
        "     # loss (normalized negative log likelihood)\n",
        "    loss = - probs[torch.arange(len(xs)), ys].log().mean()\n",
        "    # add regularization\n",
        "    loss += 0.2 * W.pow(2).mean()\n",
        "\n",
        "    if k % 10 == 0:\n",
        "        print(f\"{k}: {loss.item():.4f}\")\n",
        "\n",
        "    # backward pass\n",
        "    W.grad = None\n",
        "    loss.backward()\n",
        "\n",
        "    # update weights\n",
        "    with torch.no_grad():\n",
        "        W -= 50 * W.grad"
      ],
      "metadata": {
        "colab": {
          "base_uri": "https://localhost:8080/"
        },
        "id": "RS9VMqqYCVgz",
        "outputId": "84cb8e6e-786d-403d-89f6-07f393cbf8d8"
      },
      "execution_count": 47,
      "outputs": [
        {
          "output_type": "stream",
          "name": "stdout",
          "text": [
            "0: 4.2341\n",
            "10: 2.5841\n",
            "20: 2.4541\n",
            "30: 2.4070\n",
            "40: 2.3841\n",
            "50: 2.3715\n",
            "60: 2.3641\n",
            "70: 2.3594\n",
            "80: 2.3564\n",
            "90: 2.3544\n",
            "100: 2.3530\n",
            "110: 2.3521\n",
            "120: 2.3515\n",
            "130: 2.3510\n",
            "140: 2.3507\n",
            "150: 2.3505\n",
            "160: 2.3503\n",
            "170: 2.3502\n",
            "180: 2.3501\n",
            "190: 2.3500\n"
          ]
        }
      ]
    },
    {
      "cell_type": "markdown",
      "source": [
        "***E05: look up and use F.cross_entropy instead\n",
        "nn.functonal.cross_entropy() takes the logits and the target class as input and returns the cross entropy loss directly\n",
        "***"
      ],
      "metadata": {
        "id": "nlEvUVyqCsW2"
      }
    },
    {
      "cell_type": "code",
      "source": [
        "W = torch.randn((27*2,27), requires_grad = True)\n",
        "for k in range(200):\n",
        "    # forward pass\n",
        "    xenc = F.one_hot(xs, num_classes = 27).float()\n",
        "    xenc = xenc.view(-1, 27*2)\n",
        "    logits = xenc @ W\n",
        "\n",
        "    loss = torch.nn.functional.cross_entropy(logits, ys)\n",
        "    # add regularization\n",
        "    loss += 0.2 * W.pow(2).mean()\n",
        "\n",
        "    if k % 10 == 0:\n",
        "        print(f\"{k}: {loss.item():.4f}\")\n",
        "\n",
        "    # backward pass\n",
        "    W.grad = None\n",
        "    loss.backward()\n",
        "\n",
        "    # update weights\n",
        "    with torch.no_grad():\n",
        "        W -= 50 * W.grad"
      ],
      "metadata": {
        "colab": {
          "base_uri": "https://localhost:8080/"
        },
        "id": "TLGuCk2dCw47",
        "outputId": "8130fc1c-49bf-486b-c6d4-a910536c1913"
      },
      "execution_count": 50,
      "outputs": [
        {
          "output_type": "stream",
          "name": "stdout",
          "text": [
            "0: 4.4883\n",
            "10: 2.5857\n",
            "20: 2.4573\n",
            "30: 2.4099\n",
            "40: 2.3864\n",
            "50: 2.3731\n",
            "60: 2.3651\n",
            "70: 2.3600\n",
            "80: 2.3568\n",
            "90: 2.3546\n",
            "100: 2.3532\n",
            "110: 2.3522\n",
            "120: 2.3515\n",
            "130: 2.3510\n",
            "140: 2.3507\n",
            "150: 2.3505\n",
            "160: 2.3503\n",
            "170: 2.3502\n",
            "180: 2.3501\n",
            "190: 2.3500\n"
          ]
        }
      ]
    }
  ]
}
