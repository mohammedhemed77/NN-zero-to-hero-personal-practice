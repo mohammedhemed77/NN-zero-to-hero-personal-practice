{
  "nbformat": 4,
  "nbformat_minor": 0,
  "metadata": {
    "colab": {
      "provenance": [],
      "toc_visible": true,
      "authorship_tag": "ABX9TyMrkRyomF4NiWwrOj/CJIQw",
      "include_colab_link": true
    },
    "kernelspec": {
      "name": "python3",
      "display_name": "Python 3"
    },
    "language_info": {
      "name": "python"
    }
  },
  "cells": [
    {
      "cell_type": "markdown",
      "metadata": {
        "id": "view-in-github",
        "colab_type": "text"
      },
      "source": [
        "<a href=\"https://colab.research.google.com/github/mohammedhemed77/NN-zero-to-hero-personal-practice/blob/master/micrograd/micrograd.ipynb\" target=\"_parent\"><img src=\"https://colab.research.google.com/assets/colab-badge.svg\" alt=\"Open In Colab\"/></a>"
      ]
    },
    {
      "cell_type": "code",
      "execution_count": null,
      "metadata": {
        "id": "j3BoRPCNI0sr"
      },
      "outputs": [],
      "source": [
        "import numpy as np\n",
        "import matplotlib.pyplot as plot"
      ]
    },
    {
      "cell_type": "markdown",
      "source": [
        "micro_grad Engine class"
      ],
      "metadata": {
        "id": "4xaabhyGvx_R"
      }
    },
    {
      "cell_type": "code",
      "source": [
        "class Value :\n",
        " def __init__(self, data ,_childrwn= (), op='' ):\n",
        "    self.data = data\n",
        "    print(\"hello world\")"
      ],
      "metadata": {
        "id": "xnLVpo12v7-F"
      },
      "execution_count": 2,
      "outputs": []
    }
  ]
}