{
  "cells": [
    {
      "cell_type": "markdown",
      "metadata": {
        "colab_type": "text",
        "id": "view-in-github"
      },
      "source": [
        "<a href=\"https://colab.research.google.com/github/mohammedhemed77/NN-zero-to-hero-personal-practice/blob/master/micrograd/micrograd.ipynb\" target=\"_parent\"><img src=\"https://colab.research.google.com/assets/colab-badge.svg\" alt=\"Open In Colab\"/></a>"
      ]
    },
    {
      "cell_type": "code",
      "execution_count": null,
      "metadata": {
        "id": "j3BoRPCNI0sr"
      },
      "outputs": [],
      "source": [
        "import numpy as np\n",
        "import matplotlib.pyplot as plot \n",
        "# add this commit message to it\n",
        "# add another message \n",
        "# add another message "
      ]
    },
    {
      "cell_type": "markdown",
      "metadata": {
        "id": "4xaabhyGvx_R"
      },
      "source": [
        "micro_grad Engine class"
      ]
    },
    {
      "cell_type": "code",
      "execution_count": null,
      "metadata": {
        "id": "xnLVpo12v7-F"
      },
      "outputs": [],
      "source": [
        "class Value :\n",
        " def __init__(self, data ,_childrwn= (), op='' ):\n",
        "    self.data = data\n",
        "    print(\"hello world\")"
      ]
    }
  ],
  "metadata": {
    "colab": {
      "authorship_tag": "ABX9TyMrkRyomF4NiWwrOj/CJIQw",
      "include_colab_link": true,
      "provenance": [],
      "toc_visible": true
    },
    "kernelspec": {
      "display_name": "Python 3",
      "name": "python3"
    },
    "language_info": {
      "name": "python"
    }
  },
  "nbformat": 4,
  "nbformat_minor": 0
}
