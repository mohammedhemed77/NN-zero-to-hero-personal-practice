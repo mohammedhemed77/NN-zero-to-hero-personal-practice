{
  "nbformat": 4,
  "nbformat_minor": 0,
  "metadata": {
    "colab": {
      "provenance": [],
      "toc_visible": true,
      "authorship_tag": "ABX9TyNl09b29Wzs9+tNh4KEeGRF",
      "include_colab_link": true
    },
    "kernelspec": {
      "name": "python3",
      "display_name": "Python 3"
    },
    "language_info": {
      "name": "python"
    }
  },
  "cells": [
    {
      "cell_type": "markdown",
      "metadata": {
        "id": "view-in-github",
        "colab_type": "text"
      },
      "source": [
        "<a href=\"https://colab.research.google.com/github/mohammedhemed77/NN-zero-to-hero-personal-practice/blob/main/micrograd.ipynb\" target=\"_parent\"><img src=\"https://colab.research.google.com/assets/colab-badge.svg\" alt=\"Open In Colab\"/></a>"
      ]
    },
    {
      "cell_type": "code",
      "execution_count": 6,
      "metadata": {
        "id": "j3BoRPCNI0sr"
      },
      "outputs": [],
      "source": [
        "import math\n",
        "import random\n",
        "import numpy as np\n",
        "import matplotlib.pyplot as plt\n",
        "%matplotlib inline"
      ]
    },
    {
      "cell_type": "markdown",
      "source": [
        "micro_grad Engine class"
      ],
      "metadata": {
        "id": "4xaabhyGvx_R"
      }
    },
    {
      "cell_type": "code",
      "source": [
        "class Value :\n",
        "\n",
        "  def __init__(self, data ,_children= (), _op='' ,label=''):\n",
        "    self.data = data\n",
        "    self.grad = 0\n",
        "    self._backward = lambda : None\n",
        "    self._prev = set (_children)\n",
        "    self.op = _op\n",
        "    self.label= label\n",
        "\n",
        "  def __add__(self,other):\n",
        "    other = other if isinstance(other,Value) else Value(other)\n",
        "    out = Value(self.data + other.data , (self,other),'+')\n",
        "    # BP of addition\n",
        "\n",
        "    def _backward():\n",
        "      # d(out)/out = 1\n",
        "      self.grad  += out.grad\n",
        "      other.grad += out.grad\n",
        "    out._backward = _backward\n",
        "\n",
        "    return out\n",
        "\n",
        "  def __mul__ (self,other):\n",
        "    other = other if isinstance(other, Value) else Value (other)\n",
        "    out = Value (self.data * other.data , (self,other), '*')\n",
        "    # BP of Multiplication\n",
        "\n",
        "    def _backward():\n",
        "      self.grad  += out.grad * other.data\n",
        "      other.grad += out.grad * self.data\n",
        "    out._backward = _backward\n",
        "\n",
        "    return out\n",
        "\n",
        "\n",
        "  def __pow__(self,other):\n",
        "    assert isinstance(other,(int,float)), \"only support int / float\"\n",
        "    out =  Value (self.data**other,  (self,), f'**{other}')\n",
        "\n",
        "    def _backward():\n",
        "      self.grad += (other * self.data ** (other-1)) * out.grad\n",
        "    out._backward = _backward\n",
        "\n",
        "    return out\n",
        "\n",
        "  def __neg__(self):\n",
        "    return self -1\n",
        "\n",
        "  def __radd__(self,other):\n",
        "    return self + other\n",
        "\n",
        "  def __rsub__(self,other):\n",
        "    return other + (-self)\n",
        "\n",
        "  def __rmul__(self,other):\n",
        "    return self * other\n",
        "\n",
        "  def __truediv__(self ,other):\n",
        "    return  self * (other ** -1)\n",
        "\n",
        "  def __truediv__(self ,other):\n",
        "    return  other * (self ** -1)\n",
        "\n",
        "  def __repr__ (self):\n",
        "    return f\" Value (data = {self.data}, grad = {self.grad}) \"\n",
        "\n",
        "  def tanh(self):\n",
        "    x = self.data\n",
        "    t = (math.exp(2*x) - 1)/(math.exp(2*x) + 1)\n",
        "    out = Value(t, (self, ), 'tanh')\n",
        "\n",
        "    def _backward():\n",
        "      self.grad += (1 - t**2) * out.grad\n",
        "    out._backward = _backward\n",
        "\n",
        "    return out\n",
        "\n",
        "  def exp(self):\n",
        "    x = self.data\n",
        "    out = Value(math.exp(x), (self, ), 'exp')\n",
        "\n",
        "    def _backward():\n",
        "      self.grad += out.data * out.grad # NOTE: in the video I incorrectly used = instead of +=. Fixed here.\n",
        "    out._backward = _backward\n",
        "\n",
        "    return out\n",
        "  def backward (self):\n",
        "    # topological order of all graph childs\n",
        "    topo = []\n",
        "    visited = set()\n",
        "\n",
        "    def build_topo(v):\n",
        "      if v not in visited :\n",
        "        visited.add(v)\n",
        "        for child in v._prev:\n",
        "          build_topo(child)\n",
        "        topo.append(v)\n",
        "    build_topo(self)\n",
        "\n",
        "    # go one variable at a time and apply the chain rule to get its gradient\n",
        "    self.grad = 1.0\n",
        "    for node in reversed (topo):\n",
        "      node._backward()\n",
        "\n"
      ],
      "metadata": {
        "id": "xnLVpo12v7-F"
      },
      "execution_count": 7,
      "outputs": []
    },
    {
      "cell_type": "markdown",
      "source": [
        "Topological order of graph using Depth First Search\n"
      ],
      "metadata": {
        "id": "rBXlHmaaOkux"
      }
    },
    {
      "cell_type": "code",
      "source": [
        "# Graph represented as an adjacency list\n",
        "graph = {\n",
        "    'A': ['C'],\n",
        "    'B': ['C', 'D'],\n",
        "    'C': ['E'],\n",
        "    'D': ['F'],\n",
        "    'E': ['H', 'F'],\n",
        "    'F': ['G'],\n",
        "    'G': [],\n",
        "    'H': []\n",
        "}\n",
        "\n",
        "# List to store the topological order\n",
        "topo_order = []\n",
        "\n",
        "# Set to track visited nodes\n",
        "visited = set()\n",
        "\n",
        "# DFS function\n",
        "def dfs(node):\n",
        "    if node not in visited:\n",
        "        visited.add(node)\n",
        "        # Visit all children\n",
        "        for neighbor in graph[node]:\n",
        "            dfs(neighbor)\n",
        "        # After visiting children, add the node to the topo_order\n",
        "        topo_order.append(node)\n",
        "\n",
        "# Perform DFS for each node\n",
        "for node in graph:\n",
        "    dfs(node)\n",
        "\n",
        "# Reverse the order to get the correct topological sorting\n",
        "topo_order.reverse()\n",
        "\n",
        "# Output the topological order\n",
        "print(\"Topological Order:\", topo_order)"
      ],
      "metadata": {
        "id": "I5thQ8DQOr_x",
        "outputId": "1fb67808-effa-4b6b-88bb-011b0aee37b0",
        "colab": {
          "base_uri": "https://localhost:8080/"
        }
      },
      "execution_count": 8,
      "outputs": [
        {
          "output_type": "stream",
          "name": "stdout",
          "text": [
            "Topological Order: ['B', 'D', 'A', 'C', 'E', 'F', 'G', 'H']\n"
          ]
        }
      ]
    },
    {
      "cell_type": "code",
      "source": [
        "class Node :\n",
        "\n",
        "  def __init__ (self , name, _children = None):\n",
        "    self.name = name\n",
        "    self._prev = set(_children) if _children is not None else set()\n",
        "\n",
        "  def __repr__(self) :\n",
        "    return f\"Node ({self.name} , {self._prev})\"\n",
        "\n",
        "\n",
        "# create nodes :\n",
        "\n",
        "A = Node('A')\n",
        "B = Node('B', _children = [A])\n",
        "C = Node('C', _children = [A])\n",
        "D = Node('D', _children = [B,C])\n",
        "E = Node ('E',_children = [D])\n",
        "\n",
        "topo = []\n",
        "visited = set()\n",
        "\n",
        "def build_topo(v,visited,topo):\n",
        "\n",
        "  if v not in visited :\n",
        "    visited.add(v)\n",
        "\n",
        "    for child in v._prev :\n",
        "      build_topo(child,visited,topo)\n",
        "    topo.append(v)\n",
        "\n",
        "build_topo(E,visited,topo)\n",
        "\n",
        "# Print topological order\n",
        "print(\"Topological Order:\", [node.name for node in reversed (topo)])"
      ],
      "metadata": {
        "id": "BcMNg588wZrt",
        "outputId": "15e7bbc8-df0c-46cb-bfb0-ee4f1c651575",
        "colab": {
          "base_uri": "https://localhost:8080/"
        }
      },
      "execution_count": 9,
      "outputs": [
        {
          "output_type": "stream",
          "name": "stdout",
          "text": [
            "Topological Order: ['E', 'D', 'B', 'C', 'A']\n"
          ]
        }
      ]
    },
    {
      "cell_type": "markdown",
      "source": [
        "\n",
        "***graphviz API***"
      ],
      "metadata": {
        "id": "ls54-m1wKd9o"
      }
    },
    {
      "cell_type": "code",
      "source": [
        "from graphviz import Digraph\n",
        "\n",
        "def trace(root):\n",
        "  # builds a set of all nodes and edges in a graph\n",
        "  nodes, edges = set(), set()\n",
        "  def build(v):\n",
        "    if v not in nodes:\n",
        "      nodes.add(v)\n",
        "      for child in v._prev:\n",
        "        edges.add((child, v))\n",
        "        build(child)\n",
        "  build(root)\n",
        "  return nodes, edges\n",
        "\n",
        "def draw_dot(root):\n",
        "  dot = Digraph(format='svg', graph_attr={'rankdir': 'LR'}) # LR = left to right\n",
        "\n",
        "  nodes, edges = trace(root)\n",
        "  for n in nodes:\n",
        "    uid = str(id(n))\n",
        "    # for any value in the graph, create a rectangular ('record') node for it\n",
        "    dot.node(name = uid, label = \"{ %s | data %.4f | grad %.4f }\" % (n.label, n.data, n.grad), shape='record')\n",
        "    if hasattr(n, '_op'):\n",
        "      # if this value is a result of some operation, create an op node for it\n",
        "      dot.node(name = uid + n._op, label = n._op)\n",
        "      # and connect this node to it\n",
        "      dot.edge(uid + n._op, uid)\n",
        "\n",
        "  for n1, n2 in edges:\n",
        "     # Check if n2 has a '_op' attribute before using it to construct the edge name\n",
        "    edge_name = str(id(n2)) + (n2._op if hasattr(n2, '_op') else '')\n",
        "    dot.edge(str(id(n1)), edge_name)\n",
        "\n",
        "  return dot"
      ],
      "metadata": {
        "id": "BKFBouhtKci2"
      },
      "execution_count": 10,
      "outputs": []
    },
    {
      "cell_type": "code",
      "source": [
        "a = Value(2.0, label='a')\n",
        "b = Value(-3.0, label='b')\n",
        "c = Value(10.0, label='c')\n",
        "e = a*b; e.label = 'e'\n",
        "d = e + c; d.label = 'd'\n",
        "f = Value(-2.0, label='f')\n",
        "L = d * f; L.label = 'L'\n",
        "L.backward()\n",
        "draw_dot(L)"
      ],
      "metadata": {
        "id": "wNebbSK-MkIU",
        "outputId": "4b991125-6d2f-4e07-daa4-e7b76e662da1",
        "colab": {
          "base_uri": "https://localhost:8080/",
          "height": 247
        }
      },
      "execution_count": 11,
      "outputs": [
        {
          "output_type": "execute_result",
          "data": {
            "image/svg+xml": "<?xml version=\"1.0\" encoding=\"UTF-8\" standalone=\"no\"?>\n<!DOCTYPE svg PUBLIC \"-//W3C//DTD SVG 1.1//EN\"\n \"http://www.w3.org/Graphics/SVG/1.1/DTD/svg11.dtd\">\n<!-- Generated by graphviz version 2.43.0 (0)\n -->\n<!-- Title: %3 Pages: 1 -->\n<svg width=\"887pt\" height=\"154pt\"\n viewBox=\"0.00 0.00 887.00 154.00\" xmlns=\"http://www.w3.org/2000/svg\" xmlns:xlink=\"http://www.w3.org/1999/xlink\">\n<g id=\"graph0\" class=\"graph\" transform=\"scale(1 1) rotate(0) translate(4 150)\">\n<title>%3</title>\n<polygon fill=\"white\" stroke=\"transparent\" points=\"-4,4 -4,-150 883,-150 883,4 -4,4\"/>\n<!-- 135736837000736 -->\n<g id=\"node1\" class=\"node\">\n<title>135736837000736</title>\n<polygon fill=\"none\" stroke=\"black\" points=\"0,-109.5 0,-145.5 194,-145.5 194,-109.5 0,-109.5\"/>\n<text text-anchor=\"middle\" x=\"11.5\" y=\"-123.8\" font-family=\"Times,serif\" font-size=\"14.00\">b</text>\n<polyline fill=\"none\" stroke=\"black\" points=\"23,-109.5 23,-145.5 \"/>\n<text text-anchor=\"middle\" x=\"65.5\" y=\"-123.8\" font-family=\"Times,serif\" font-size=\"14.00\">data &#45;3.0000</text>\n<polyline fill=\"none\" stroke=\"black\" points=\"108,-109.5 108,-145.5 \"/>\n<text text-anchor=\"middle\" x=\"151\" y=\"-123.8\" font-family=\"Times,serif\" font-size=\"14.00\">grad &#45;4.0000</text>\n</g>\n<!-- 135737323627392 -->\n<g id=\"node6\" class=\"node\">\n<title>135737323627392</title>\n<polygon fill=\"none\" stroke=\"black\" points=\"231,-82.5 231,-118.5 425,-118.5 425,-82.5 231,-82.5\"/>\n<text text-anchor=\"middle\" x=\"242.5\" y=\"-96.8\" font-family=\"Times,serif\" font-size=\"14.00\">e</text>\n<polyline fill=\"none\" stroke=\"black\" points=\"254,-82.5 254,-118.5 \"/>\n<text text-anchor=\"middle\" x=\"296.5\" y=\"-96.8\" font-family=\"Times,serif\" font-size=\"14.00\">data &#45;6.0000</text>\n<polyline fill=\"none\" stroke=\"black\" points=\"339,-82.5 339,-118.5 \"/>\n<text text-anchor=\"middle\" x=\"382\" y=\"-96.8\" font-family=\"Times,serif\" font-size=\"14.00\">grad &#45;2.0000</text>\n</g>\n<!-- 135736837000736&#45;&gt;135737323627392 -->\n<g id=\"edge6\" class=\"edge\">\n<title>135736837000736&#45;&gt;135737323627392</title>\n<path fill=\"none\" stroke=\"black\" d=\"M194.12,-116.17C202.93,-115.13 211.88,-114.07 220.76,-113.03\"/>\n<polygon fill=\"black\" stroke=\"black\" points=\"221.24,-116.49 230.76,-111.85 220.42,-109.54 221.24,-116.49\"/>\n</g>\n<!-- 135736837008032 -->\n<g id=\"node2\" class=\"node\">\n<title>135736837008032</title>\n<polygon fill=\"none\" stroke=\"black\" points=\"462.5,-0.5 462.5,-36.5 650.5,-36.5 650.5,-0.5 462.5,-0.5\"/>\n<text text-anchor=\"middle\" x=\"473\" y=\"-14.8\" font-family=\"Times,serif\" font-size=\"14.00\">f</text>\n<polyline fill=\"none\" stroke=\"black\" points=\"483.5,-0.5 483.5,-36.5 \"/>\n<text text-anchor=\"middle\" x=\"526\" y=\"-14.8\" font-family=\"Times,serif\" font-size=\"14.00\">data &#45;2.0000</text>\n<polyline fill=\"none\" stroke=\"black\" points=\"568.5,-0.5 568.5,-36.5 \"/>\n<text text-anchor=\"middle\" x=\"609.5\" y=\"-14.8\" font-family=\"Times,serif\" font-size=\"14.00\">grad 4.0000</text>\n</g>\n<!-- 135737323624704 -->\n<g id=\"node3\" class=\"node\">\n<title>135737323624704</title>\n<polygon fill=\"none\" stroke=\"black\" points=\"687,-27.5 687,-63.5 879,-63.5 879,-27.5 687,-27.5\"/>\n<text text-anchor=\"middle\" x=\"699.5\" y=\"-41.8\" font-family=\"Times,serif\" font-size=\"14.00\">L</text>\n<polyline fill=\"none\" stroke=\"black\" points=\"712,-27.5 712,-63.5 \"/>\n<text text-anchor=\"middle\" x=\"754.5\" y=\"-41.8\" font-family=\"Times,serif\" font-size=\"14.00\">data &#45;8.0000</text>\n<polyline fill=\"none\" stroke=\"black\" points=\"797,-27.5 797,-63.5 \"/>\n<text text-anchor=\"middle\" x=\"838\" y=\"-41.8\" font-family=\"Times,serif\" font-size=\"14.00\">grad 1.0000</text>\n</g>\n<!-- 135736837008032&#45;&gt;135737323624704 -->\n<g id=\"edge5\" class=\"edge\">\n<title>135736837008032&#45;&gt;135737323624704</title>\n<path fill=\"none\" stroke=\"black\" d=\"M650.76,-29.72C659.33,-30.75 668.05,-31.8 676.72,-32.84\"/>\n<polygon fill=\"black\" stroke=\"black\" points=\"676.52,-36.34 686.86,-34.06 677.35,-29.39 676.52,-36.34\"/>\n</g>\n<!-- 135736836999968 -->\n<g id=\"node4\" class=\"node\">\n<title>135736836999968</title>\n<polygon fill=\"none\" stroke=\"black\" points=\"230,-27.5 230,-63.5 426,-63.5 426,-27.5 230,-27.5\"/>\n<text text-anchor=\"middle\" x=\"241.5\" y=\"-41.8\" font-family=\"Times,serif\" font-size=\"14.00\">c</text>\n<polyline fill=\"none\" stroke=\"black\" points=\"253,-27.5 253,-63.5 \"/>\n<text text-anchor=\"middle\" x=\"296.5\" y=\"-41.8\" font-family=\"Times,serif\" font-size=\"14.00\">data 10.0000</text>\n<polyline fill=\"none\" stroke=\"black\" points=\"340,-27.5 340,-63.5 \"/>\n<text text-anchor=\"middle\" x=\"383\" y=\"-41.8\" font-family=\"Times,serif\" font-size=\"14.00\">grad &#45;2.0000</text>\n</g>\n<!-- 135737323631952 -->\n<g id=\"node5\" class=\"node\">\n<title>135737323631952</title>\n<polygon fill=\"none\" stroke=\"black\" points=\"462,-55.5 462,-91.5 651,-91.5 651,-55.5 462,-55.5\"/>\n<text text-anchor=\"middle\" x=\"473.5\" y=\"-69.8\" font-family=\"Times,serif\" font-size=\"14.00\">d</text>\n<polyline fill=\"none\" stroke=\"black\" points=\"485,-55.5 485,-91.5 \"/>\n<text text-anchor=\"middle\" x=\"525\" y=\"-69.8\" font-family=\"Times,serif\" font-size=\"14.00\">data 4.0000</text>\n<polyline fill=\"none\" stroke=\"black\" points=\"565,-55.5 565,-91.5 \"/>\n<text text-anchor=\"middle\" x=\"608\" y=\"-69.8\" font-family=\"Times,serif\" font-size=\"14.00\">grad &#45;2.0000</text>\n</g>\n<!-- 135736836999968&#45;&gt;135737323631952 -->\n<g id=\"edge3\" class=\"edge\">\n<title>135736836999968&#45;&gt;135737323631952</title>\n<path fill=\"none\" stroke=\"black\" d=\"M426.04,-57.5C434.59,-58.55 443.26,-59.62 451.85,-60.69\"/>\n<polygon fill=\"black\" stroke=\"black\" points=\"451.54,-64.18 461.89,-61.93 452.4,-57.23 451.54,-64.18\"/>\n</g>\n<!-- 135737323631952&#45;&gt;135737323624704 -->\n<g id=\"edge2\" class=\"edge\">\n<title>135737323631952&#45;&gt;135737323624704</title>\n<path fill=\"none\" stroke=\"black\" d=\"M651.08,-61.83C659.56,-60.77 668.18,-59.7 676.74,-58.63\"/>\n<polygon fill=\"black\" stroke=\"black\" points=\"677.27,-62.09 686.76,-57.38 676.41,-55.14 677.27,-62.09\"/>\n</g>\n<!-- 135737323627392&#45;&gt;135737323631952 -->\n<g id=\"edge4\" class=\"edge\">\n<title>135737323627392&#45;&gt;135737323631952</title>\n<path fill=\"none\" stroke=\"black\" d=\"M425.06,-89.05C433.9,-87.99 442.9,-86.92 451.81,-85.86\"/>\n<polygon fill=\"black\" stroke=\"black\" points=\"452.31,-89.33 461.82,-84.67 451.48,-82.38 452.31,-89.33\"/>\n</g>\n<!-- 135736837011392 -->\n<g id=\"node7\" class=\"node\">\n<title>135736837011392</title>\n<polygon fill=\"none\" stroke=\"black\" points=\"4.5,-54.5 4.5,-90.5 189.5,-90.5 189.5,-54.5 4.5,-54.5\"/>\n<text text-anchor=\"middle\" x=\"16\" y=\"-68.8\" font-family=\"Times,serif\" font-size=\"14.00\">a</text>\n<polyline fill=\"none\" stroke=\"black\" points=\"27.5,-54.5 27.5,-90.5 \"/>\n<text text-anchor=\"middle\" x=\"67.5\" y=\"-68.8\" font-family=\"Times,serif\" font-size=\"14.00\">data 2.0000</text>\n<polyline fill=\"none\" stroke=\"black\" points=\"107.5,-54.5 107.5,-90.5 \"/>\n<text text-anchor=\"middle\" x=\"148.5\" y=\"-68.8\" font-family=\"Times,serif\" font-size=\"14.00\">grad 6.0000</text>\n</g>\n<!-- 135736837011392&#45;&gt;135737323627392 -->\n<g id=\"edge1\" class=\"edge\">\n<title>135736837011392&#45;&gt;135737323627392</title>\n<path fill=\"none\" stroke=\"black\" d=\"M189.82,-83.73C199.9,-84.96 210.23,-86.22 220.46,-87.47\"/>\n<polygon fill=\"black\" stroke=\"black\" points=\"220.31,-90.98 230.66,-88.72 221.16,-84.03 220.31,-90.98\"/>\n</g>\n</g>\n</svg>\n",
            "text/plain": [
              "<graphviz.graphs.Digraph at 0x7b73cef53d60>"
            ]
          },
          "metadata": {},
          "execution_count": 11
        }
      ]
    },
    {
      "cell_type": "code",
      "source": [
        "# inputs x1,x2\n",
        "x1 = Value(2.0, label='x1')\n",
        "x2 = Value(0.0, label='x2')\n",
        "# weights w1,w2\n",
        "w1 = Value(-3.0, label='w1')\n",
        "w2 = Value(1.0, label='w2')\n",
        "# bias of the neuron\n",
        "b = Value(6.8813735870195432, label='b')\n",
        "# x1*w1 + x2*w2 + b\n",
        "x1w1 = x1*w1; x1w1.label = 'x1*w1'\n",
        "x2w2 = x2*w2; x2w2.label = 'x2*w2'\n",
        "x1w1x2w2 = x1w1 + x2w2; x1w1x2w2.label = 'x1*w1 + x2*w2'\n",
        "n = x1w1x2w2 + b; n.label = 'n'\n",
        "o = n.tanh(); o.label = 'o'\n",
        "o.backward()\n",
        "# debug values of grad\n",
        "print(x1.grad, x2.grad, w1.grad, w2.grad, b.grad)"
      ],
      "metadata": {
        "id": "TX6c0mJ-4AgK",
        "outputId": "95f0cdef-e0c6-483c-e8b5-22ba14ad9f24",
        "colab": {
          "base_uri": "https://localhost:8080/"
        }
      },
      "execution_count": 12,
      "outputs": [
        {
          "output_type": "stream",
          "name": "stdout",
          "text": [
            "-1.4999999999999996 0.4999999999999999 0.9999999999999998 0.0 0.4999999999999999\n"
          ]
        }
      ]
    },
    {
      "cell_type": "code",
      "source": [
        "draw_dot(o)"
      ],
      "metadata": {
        "id": "GyX-AEY64C0_",
        "outputId": "fb17fa78-f3b5-4df0-8529-2f3e75997919",
        "colab": {
          "base_uri": "https://localhost:8080/",
          "height": 322
        }
      },
      "execution_count": 13,
      "outputs": [
        {
          "output_type": "execute_result",
          "data": {
            "image/svg+xml": "<?xml version=\"1.0\" encoding=\"UTF-8\" standalone=\"no\"?>\n<!DOCTYPE svg PUBLIC \"-//W3C//DTD SVG 1.1//EN\"\n \"http://www.w3.org/Graphics/SVG/1.1/DTD/svg11.dtd\">\n<!-- Generated by graphviz version 2.43.0 (0)\n -->\n<!-- Title: %3 Pages: 1 -->\n<svg width=\"1215pt\" height=\"210pt\"\n viewBox=\"0.00 0.00 1215.00 210.00\" xmlns=\"http://www.w3.org/2000/svg\" xmlns:xlink=\"http://www.w3.org/1999/xlink\">\n<g id=\"graph0\" class=\"graph\" transform=\"scale(1 1) rotate(0) translate(4 206)\">\n<title>%3</title>\n<polygon fill=\"white\" stroke=\"transparent\" points=\"-4,4 -4,-206 1211,-206 1211,4 -4,4\"/>\n<!-- 135736838414848 -->\n<g id=\"node1\" class=\"node\">\n<title>135736838414848</title>\n<polygon fill=\"none\" stroke=\"black\" points=\"0,-165.5 0,-201.5 200,-201.5 200,-165.5 0,-165.5\"/>\n<text text-anchor=\"middle\" x=\"16.5\" y=\"-179.8\" font-family=\"Times,serif\" font-size=\"14.00\">w1</text>\n<polyline fill=\"none\" stroke=\"black\" points=\"33,-165.5 33,-201.5 \"/>\n<text text-anchor=\"middle\" x=\"75.5\" y=\"-179.8\" font-family=\"Times,serif\" font-size=\"14.00\">data &#45;3.0000</text>\n<polyline fill=\"none\" stroke=\"black\" points=\"118,-165.5 118,-201.5 \"/>\n<text text-anchor=\"middle\" x=\"159\" y=\"-179.8\" font-family=\"Times,serif\" font-size=\"14.00\">grad 1.0000</text>\n</g>\n<!-- 135736838417968 -->\n<g id=\"node3\" class=\"node\">\n<title>135736838417968</title>\n<polygon fill=\"none\" stroke=\"black\" points=\"236,-110.5 236,-146.5 456,-146.5 456,-110.5 236,-110.5\"/>\n<text text-anchor=\"middle\" x=\"262.5\" y=\"-124.8\" font-family=\"Times,serif\" font-size=\"14.00\">x1*w1</text>\n<polyline fill=\"none\" stroke=\"black\" points=\"289,-110.5 289,-146.5 \"/>\n<text text-anchor=\"middle\" x=\"331.5\" y=\"-124.8\" font-family=\"Times,serif\" font-size=\"14.00\">data &#45;6.0000</text>\n<polyline fill=\"none\" stroke=\"black\" points=\"374,-110.5 374,-146.5 \"/>\n<text text-anchor=\"middle\" x=\"415\" y=\"-124.8\" font-family=\"Times,serif\" font-size=\"14.00\">grad 0.5000</text>\n</g>\n<!-- 135736838414848&#45;&gt;135736838417968 -->\n<g id=\"edge4\" class=\"edge\">\n<title>135736838414848&#45;&gt;135736838417968</title>\n<path fill=\"none\" stroke=\"black\" d=\"M180.89,-165.49C204.59,-160.15 230.71,-154.26 255,-148.79\"/>\n<polygon fill=\"black\" stroke=\"black\" points=\"255.94,-152.16 264.93,-146.55 254.4,-145.33 255.94,-152.16\"/>\n</g>\n<!-- 135737323626528 -->\n<g id=\"node2\" class=\"node\">\n<title>135737323626528</title>\n<polygon fill=\"none\" stroke=\"black\" points=\"801,-55.5 801,-91.5 986,-91.5 986,-55.5 801,-55.5\"/>\n<text text-anchor=\"middle\" x=\"812.5\" y=\"-69.8\" font-family=\"Times,serif\" font-size=\"14.00\">n</text>\n<polyline fill=\"none\" stroke=\"black\" points=\"824,-55.5 824,-91.5 \"/>\n<text text-anchor=\"middle\" x=\"864\" y=\"-69.8\" font-family=\"Times,serif\" font-size=\"14.00\">data 0.8814</text>\n<polyline fill=\"none\" stroke=\"black\" points=\"904,-55.5 904,-91.5 \"/>\n<text text-anchor=\"middle\" x=\"945\" y=\"-69.8\" font-family=\"Times,serif\" font-size=\"14.00\">grad 0.5000</text>\n</g>\n<!-- 135737323629792 -->\n<g id=\"node8\" class=\"node\">\n<title>135737323629792</title>\n<polygon fill=\"none\" stroke=\"black\" points=\"1022,-55.5 1022,-91.5 1207,-91.5 1207,-55.5 1022,-55.5\"/>\n<text text-anchor=\"middle\" x=\"1033.5\" y=\"-69.8\" font-family=\"Times,serif\" font-size=\"14.00\">o</text>\n<polyline fill=\"none\" stroke=\"black\" points=\"1045,-55.5 1045,-91.5 \"/>\n<text text-anchor=\"middle\" x=\"1085\" y=\"-69.8\" font-family=\"Times,serif\" font-size=\"14.00\">data 0.7071</text>\n<polyline fill=\"none\" stroke=\"black\" points=\"1125,-55.5 1125,-91.5 \"/>\n<text text-anchor=\"middle\" x=\"1166\" y=\"-69.8\" font-family=\"Times,serif\" font-size=\"14.00\">grad 1.0000</text>\n</g>\n<!-- 135737323626528&#45;&gt;135737323629792 -->\n<g id=\"edge5\" class=\"edge\">\n<title>135737323626528&#45;&gt;135737323629792</title>\n<path fill=\"none\" stroke=\"black\" d=\"M986.11,-73.5C994.62,-73.5 1003.27,-73.5 1011.86,-73.5\"/>\n<polygon fill=\"black\" stroke=\"black\" points=\"1011.91,-77 1021.91,-73.5 1011.91,-70 1011.91,-77\"/>\n</g>\n<!-- 135736838421184 -->\n<g id=\"node7\" class=\"node\">\n<title>135736838421184</title>\n<polygon fill=\"none\" stroke=\"black\" points=\"492,-83.5 492,-119.5 765,-119.5 765,-83.5 492,-83.5\"/>\n<text text-anchor=\"middle\" x=\"545\" y=\"-97.8\" font-family=\"Times,serif\" font-size=\"14.00\">x1*w1 + x2*w2</text>\n<polyline fill=\"none\" stroke=\"black\" points=\"598,-83.5 598,-119.5 \"/>\n<text text-anchor=\"middle\" x=\"640.5\" y=\"-97.8\" font-family=\"Times,serif\" font-size=\"14.00\">data &#45;6.0000</text>\n<polyline fill=\"none\" stroke=\"black\" points=\"683,-83.5 683,-119.5 \"/>\n<text text-anchor=\"middle\" x=\"724\" y=\"-97.8\" font-family=\"Times,serif\" font-size=\"14.00\">grad 0.5000</text>\n</g>\n<!-- 135736838417968&#45;&gt;135736838421184 -->\n<g id=\"edge8\" class=\"edge\">\n<title>135736838417968&#45;&gt;135736838421184</title>\n<path fill=\"none\" stroke=\"black\" d=\"M456.25,-117.98C464.65,-117.17 473.21,-116.35 481.8,-115.52\"/>\n<polygon fill=\"black\" stroke=\"black\" points=\"482.27,-119 491.88,-114.55 481.6,-112.03 482.27,-119\"/>\n</g>\n<!-- 135736838421136 -->\n<g id=\"node4\" class=\"node\">\n<title>135736838421136</title>\n<polygon fill=\"none\" stroke=\"black\" points=\"536,-28.5 536,-64.5 721,-64.5 721,-28.5 536,-28.5\"/>\n<text text-anchor=\"middle\" x=\"547.5\" y=\"-42.8\" font-family=\"Times,serif\" font-size=\"14.00\">b</text>\n<polyline fill=\"none\" stroke=\"black\" points=\"559,-28.5 559,-64.5 \"/>\n<text text-anchor=\"middle\" x=\"599\" y=\"-42.8\" font-family=\"Times,serif\" font-size=\"14.00\">data 6.8814</text>\n<polyline fill=\"none\" stroke=\"black\" points=\"639,-28.5 639,-64.5 \"/>\n<text text-anchor=\"middle\" x=\"680\" y=\"-42.8\" font-family=\"Times,serif\" font-size=\"14.00\">grad 0.5000</text>\n</g>\n<!-- 135736838421136&#45;&gt;135737323626528 -->\n<g id=\"edge6\" class=\"edge\">\n<title>135736838421136&#45;&gt;135737323626528</title>\n<path fill=\"none\" stroke=\"black\" d=\"M721.12,-55.91C743.59,-58.21 767.77,-60.7 790.69,-63.05\"/>\n<polygon fill=\"black\" stroke=\"black\" points=\"790.46,-66.54 800.77,-64.08 791.18,-59.58 790.46,-66.54\"/>\n</g>\n<!-- 135736838418592 -->\n<g id=\"node5\" class=\"node\">\n<title>135736838418592</title>\n<polygon fill=\"none\" stroke=\"black\" points=\"238.5,-55.5 238.5,-91.5 453.5,-91.5 453.5,-55.5 238.5,-55.5\"/>\n<text text-anchor=\"middle\" x=\"265\" y=\"-69.8\" font-family=\"Times,serif\" font-size=\"14.00\">x2*w2</text>\n<polyline fill=\"none\" stroke=\"black\" points=\"291.5,-55.5 291.5,-91.5 \"/>\n<text text-anchor=\"middle\" x=\"331.5\" y=\"-69.8\" font-family=\"Times,serif\" font-size=\"14.00\">data 0.0000</text>\n<polyline fill=\"none\" stroke=\"black\" points=\"371.5,-55.5 371.5,-91.5 \"/>\n<text text-anchor=\"middle\" x=\"412.5\" y=\"-69.8\" font-family=\"Times,serif\" font-size=\"14.00\">grad 0.5000</text>\n</g>\n<!-- 135736838418592&#45;&gt;135736838421184 -->\n<g id=\"edge9\" class=\"edge\">\n<title>135736838418592&#45;&gt;135736838421184</title>\n<path fill=\"none\" stroke=\"black\" d=\"M453.85,-84.17C462.94,-85.07 472.24,-86 481.56,-86.93\"/>\n<polygon fill=\"black\" stroke=\"black\" points=\"481.39,-90.43 491.69,-87.94 482.09,-83.47 481.39,-90.43\"/>\n</g>\n<!-- 135736838414992 -->\n<g id=\"node6\" class=\"node\">\n<title>135736838414992</title>\n<polygon fill=\"none\" stroke=\"black\" points=\"2.5,-55.5 2.5,-91.5 197.5,-91.5 197.5,-55.5 2.5,-55.5\"/>\n<text text-anchor=\"middle\" x=\"19\" y=\"-69.8\" font-family=\"Times,serif\" font-size=\"14.00\">w2</text>\n<polyline fill=\"none\" stroke=\"black\" points=\"35.5,-55.5 35.5,-91.5 \"/>\n<text text-anchor=\"middle\" x=\"75.5\" y=\"-69.8\" font-family=\"Times,serif\" font-size=\"14.00\">data 1.0000</text>\n<polyline fill=\"none\" stroke=\"black\" points=\"115.5,-55.5 115.5,-91.5 \"/>\n<text text-anchor=\"middle\" x=\"156.5\" y=\"-69.8\" font-family=\"Times,serif\" font-size=\"14.00\">grad 0.0000</text>\n</g>\n<!-- 135736838414992&#45;&gt;135736838418592 -->\n<g id=\"edge1\" class=\"edge\">\n<title>135736838414992&#45;&gt;135736838418592</title>\n<path fill=\"none\" stroke=\"black\" d=\"M197.79,-73.5C207.76,-73.5 217.98,-73.5 228.15,-73.5\"/>\n<polygon fill=\"black\" stroke=\"black\" points=\"228.29,-77 238.29,-73.5 228.29,-70 228.29,-77\"/>\n</g>\n<!-- 135736838421184&#45;&gt;135737323626528 -->\n<g id=\"edge7\" class=\"edge\">\n<title>135736838421184&#45;&gt;135737323626528</title>\n<path fill=\"none\" stroke=\"black\" d=\"M765.24,-87.05C773.81,-86.14 782.36,-85.23 790.74,-84.33\"/>\n<polygon fill=\"black\" stroke=\"black\" points=\"791.29,-87.8 800.86,-83.26 790.55,-80.83 791.29,-87.8\"/>\n</g>\n<!-- 135736838421760 -->\n<g id=\"node9\" class=\"node\">\n<title>135736838421760</title>\n<polygon fill=\"none\" stroke=\"black\" points=\"2,-110.5 2,-146.5 198,-146.5 198,-110.5 2,-110.5\"/>\n<text text-anchor=\"middle\" x=\"17\" y=\"-124.8\" font-family=\"Times,serif\" font-size=\"14.00\">x1</text>\n<polyline fill=\"none\" stroke=\"black\" points=\"32,-110.5 32,-146.5 \"/>\n<text text-anchor=\"middle\" x=\"72\" y=\"-124.8\" font-family=\"Times,serif\" font-size=\"14.00\">data 2.0000</text>\n<polyline fill=\"none\" stroke=\"black\" points=\"112,-110.5 112,-146.5 \"/>\n<text text-anchor=\"middle\" x=\"155\" y=\"-124.8\" font-family=\"Times,serif\" font-size=\"14.00\">grad &#45;1.5000</text>\n</g>\n<!-- 135736838421760&#45;&gt;135736838417968 -->\n<g id=\"edge3\" class=\"edge\">\n<title>135736838421760&#45;&gt;135736838417968</title>\n<path fill=\"none\" stroke=\"black\" d=\"M198.14,-128.5C207.21,-128.5 216.48,-128.5 225.73,-128.5\"/>\n<polygon fill=\"black\" stroke=\"black\" points=\"225.74,-132 235.74,-128.5 225.74,-125 225.74,-132\"/>\n</g>\n<!-- 135736838413264 -->\n<g id=\"node10\" class=\"node\">\n<title>135736838413264</title>\n<polygon fill=\"none\" stroke=\"black\" points=\"4,-0.5 4,-36.5 196,-36.5 196,-0.5 4,-0.5\"/>\n<text text-anchor=\"middle\" x=\"19\" y=\"-14.8\" font-family=\"Times,serif\" font-size=\"14.00\">x2</text>\n<polyline fill=\"none\" stroke=\"black\" points=\"34,-0.5 34,-36.5 \"/>\n<text text-anchor=\"middle\" x=\"74\" y=\"-14.8\" font-family=\"Times,serif\" font-size=\"14.00\">data 0.0000</text>\n<polyline fill=\"none\" stroke=\"black\" points=\"114,-0.5 114,-36.5 \"/>\n<text text-anchor=\"middle\" x=\"155\" y=\"-14.8\" font-family=\"Times,serif\" font-size=\"14.00\">grad 0.5000</text>\n</g>\n<!-- 135736838413264&#45;&gt;135736838418592 -->\n<g id=\"edge2\" class=\"edge\">\n<title>135736838413264&#45;&gt;135736838418592</title>\n<path fill=\"none\" stroke=\"black\" d=\"M180.89,-36.51C204.59,-41.85 230.71,-47.74 255,-53.21\"/>\n<polygon fill=\"black\" stroke=\"black\" points=\"254.4,-56.67 264.93,-55.45 255.94,-49.84 254.4,-56.67\"/>\n</g>\n</g>\n</svg>\n",
            "text/plain": [
              "<graphviz.graphs.Digraph at 0x7b73b20963e0>"
            ]
          },
          "metadata": {},
          "execution_count": 13
        }
      ]
    },
    {
      "cell_type": "code",
      "source": [
        "import torch\n",
        "x1 = torch.Tensor([2]).double()  ; x1.requires_grad = True\n",
        "x2 = torch.Tensor([0]).double()  ; x2.requires_grad = True\n",
        "w1 = torch.Tensor([-3]).double() ; w1.requires_grad = True\n",
        "w2 = torch.Tensor([1]).double()  ; w2.requires_grad = True\n",
        "b = torch.Tensor([6.8813735870195432]).double()  ; b.requires_grad = True\n",
        "n = x1 * w1 + x2 * w2 + b\n",
        "o = torch.tanh(n)\n",
        "print(o.data.item())\n",
        "o.backward()\n",
        "\n",
        "print(\"-----\")\n",
        "print ('x1' , x1.grad.item())\n",
        "print ('x2' , x2.grad.item())\n",
        "print ('w1' , w1.grad.item())\n",
        "print ('w2' , w2.grad.item())\n"
      ],
      "metadata": {
        "id": "SuOb9v4K-15R",
        "outputId": "9b827927-6fa8-4ae2-b48b-f9127587fecc",
        "colab": {
          "base_uri": "https://localhost:8080/"
        }
      },
      "execution_count": 14,
      "outputs": [
        {
          "output_type": "stream",
          "name": "stdout",
          "text": [
            "0.7071066904050358\n",
            "-----\n",
            "x1 -1.5000003851533106\n",
            "x2 0.5000001283844369\n",
            "w1 1.0000002567688737\n",
            "w2 0.0\n"
          ]
        }
      ]
    },
    {
      "cell_type": "markdown",
      "source": [
        "**Nueron Class**"
      ],
      "metadata": {
        "id": "os0juYJYBkMB"
      }
    },
    {
      "cell_type": "code",
      "source": [
        "class Nueron :\n",
        "\n",
        "  def __init__ (self,num_inputs):\n",
        "    self.w = [Value(random.uniform(-1,1)) for _ in range (num_inputs)]\n",
        "    self.b = Value(random.uniform(-1,1))\n",
        "\n",
        "  def __call__ (self,x):\n",
        "    act = sum ((wi*xi for wi,xi in zip (self.w,x)), self.b)\n",
        "    out = act.tanh()\n",
        "    return out\n",
        "\n",
        "  def parameters(self):\n",
        "    return self.w + [self.b]\n",
        "\n",
        "\n",
        "class Layer :\n",
        "\n",
        "  def __init__ (self,num_inputs,num_out):\n",
        "    self.neurons = [Nueron(num_inputs) for _ in range(num_out) ]\n",
        "\n",
        "  def __call__ (self,x):\n",
        "    out = [n(x) for n in self.neurons]\n",
        "    return out\n",
        "\n",
        "  def parameters(self):\n",
        "    param = []\n",
        "    for n in self.neurons :\n",
        "      for p in n.parameters():\n",
        "        param.append (p)\n",
        "\n",
        "    return param\n",
        "\n",
        "\n",
        "class MLP :\n",
        "\n",
        "  def __init__(self , num_inputs,num_outs):\n",
        "     sz = [num_inputs] + num_outs\n",
        "     self.layers = [Layer(sz[i], sz[i+1]) for i in range(len(num_outs))]\n",
        "\n",
        "  def __call__(self, x):\n",
        "    for layer in self.layers:\n",
        "      x = layer(x)\n",
        "    return x\n",
        "\n",
        "  def parameters(self):\n",
        "    return [p for layer in self.layers for p in layer.parameters()]\n",
        "\n",
        "\n",
        "\n",
        "# define complete nueral net :\n",
        "# ----------------------------\n",
        "# inputs = 3 , 3 layers : first one out = 4 , second out = 4 , last one = 1\n",
        "x = [2.0, 3.0, -1.0]\n",
        "n = MLP(3, [4, 4, 1])\n",
        "n(x)\n",
        "\n",
        "for i in n.parameters() :\n",
        "  print(i)\n",
        "\n",
        "print (\"number of parameters of the network : \",len(n.parameters()))\n",
        "#nueron1 = [2.0 , 3.0]\n",
        "#nueron2 = [3.0 , 5.0]\n",
        "\n",
        "#layer = Layer(2 ,3)\n",
        "\n",
        "#layer (nueron1)\n",
        "\n",
        "#print (layer.parameters())\n",
        "\n"
      ],
      "metadata": {
        "id": "09X0sVfsBo5M",
        "outputId": "22db8d3e-5095-4534-af73-22d48420c4a7",
        "colab": {
          "base_uri": "https://localhost:8080/"
        }
      },
      "execution_count": 17,
      "outputs": [
        {
          "output_type": "stream",
          "name": "stdout",
          "text": [
            " Value (data = 0.6314324699328449, grad = 0) \n",
            " Value (data = -0.016254124302273132, grad = 0) \n",
            " Value (data = 0.37280967516048036, grad = 0) \n",
            " Value (data = 0.26548981210491696, grad = 0) \n",
            " Value (data = 0.02193265931421795, grad = 0) \n",
            " Value (data = -0.7684825151927497, grad = 0) \n",
            " Value (data = -0.6547427118480482, grad = 0) \n",
            " Value (data = 0.8939691633558651, grad = 0) \n",
            " Value (data = -0.4676285970550258, grad = 0) \n",
            " Value (data = 0.5826182371110318, grad = 0) \n",
            " Value (data = -0.9145060345787082, grad = 0) \n",
            " Value (data = -0.6172323839284988, grad = 0) \n",
            " Value (data = 0.31181452044030555, grad = 0) \n",
            " Value (data = -0.4725648128554438, grad = 0) \n",
            " Value (data = 0.27126593744973704, grad = 0) \n",
            " Value (data = -0.377345720701749, grad = 0) \n",
            " Value (data = 0.8558795413590754, grad = 0) \n",
            " Value (data = 0.8590206724759231, grad = 0) \n",
            " Value (data = -0.009108944426891474, grad = 0) \n",
            " Value (data = 0.8026876062145987, grad = 0) \n",
            " Value (data = -0.4732368422472084, grad = 0) \n",
            " Value (data = 0.43004442320903924, grad = 0) \n",
            " Value (data = -0.7564562104654617, grad = 0) \n",
            " Value (data = 0.49359607031343766, grad = 0) \n",
            " Value (data = -0.22263614410407007, grad = 0) \n",
            " Value (data = -0.9624404028359554, grad = 0) \n",
            " Value (data = 0.07426236889869142, grad = 0) \n",
            " Value (data = 0.4933219070337811, grad = 0) \n",
            " Value (data = 0.4420905908542465, grad = 0) \n",
            " Value (data = 0.02115969871382717, grad = 0) \n",
            " Value (data = 0.6015069586098762, grad = 0) \n",
            " Value (data = -0.39564412354383416, grad = 0) \n",
            " Value (data = -0.49581490260063465, grad = 0) \n",
            " Value (data = 0.24315435997104884, grad = 0) \n",
            " Value (data = -0.04868310209465809, grad = 0) \n",
            " Value (data = -0.9389456993284355, grad = 0) \n",
            " Value (data = 0.3905310643790083, grad = 0) \n",
            " Value (data = 0.08695254964707244, grad = 0) \n",
            " Value (data = 0.6380168509836648, grad = 0) \n",
            " Value (data = 0.20835373889336828, grad = 0) \n",
            " Value (data = 0.6343810229022098, grad = 0) \n",
            "number of parameters of the network :  41\n"
          ]
        }
      ]
    }
  ]
}
