{
  "cells": [
    {
      "cell_type": "markdown",
      "metadata": {
        "colab_type": "text",
        "id": "view-in-github"
      },
      "source": [
        "<a href=\"https://colab.research.google.com/github/mohammedhemed77/NN-zero-to-hero-personal-practice/blob/master/micrograd/micrograd.ipynb\" target=\"_parent\"><img src=\"https://colab.research.google.com/assets/colab-badge.svg\" alt=\"Open In Colab\"/></a>"
      ]
    },
    {
      "cell_type": "code",
      "execution_count": 20,
      "metadata": {
        "id": "j3BoRPCNI0sr"
      },
      "outputs": [
        {
          "data": {
            "image/png": "[encoded data removed]",
            "text/plain": [
              "<Figure size 640x480 with 1 Axes>"
            ]
          },
          "metadata": {},
          "output_type": "display_data"
        }
      ],
      "source": [
        "import numpy as np\n",
        "import matplotlib.pyplot as plt \n",
        "def f(x):\n",
        "    return 3*x**2 -4*x +5  \n",
        "\n",
        "xs = np.arange(-5,5,0.25)\n",
        "ys = f(xs)\n",
        "\n",
        "plt.plot(xs,ys)\n",
        "plt.grid(True)\n",
        "\n"
      ]
    },
    {
      "cell_type": "code",
      "execution_count": 19,
      "metadata": {},
      "outputs": [
        {
          "name": "stdout",
          "output_type": "stream",
          "text": [
            "x =100,y='aliaa'\n"
          ]
        }
      ],
      "source": [
        "\n",
        "# use f-format for debugging \n",
        "x = 100 \n",
        "y = \"aliaa\"\n",
        "# debug \n",
        "print (f\"{x =},{y=}\")     \n"
      ]
    },
    {
      "cell_type": "markdown",
      "metadata": {},
      "source": [
        "revise zip and iterators "
      ]
    },
    {
      "cell_type": "code",
      "execution_count": 21,
      "metadata": {},
      "outputs": [
        {
          "name": "stdout",
          "output_type": "stream",
          "text": [
            "[(10, 'a'), (20, 'b'), (30, 'c')]\n",
            "ali is 10 years old\n",
            "ahmed is 20 years old\n",
            "Alice is 30 years old\n"
          ]
        }
      ],
      "source": [
        "list1 = (10 ,20,30)\n",
        "list2 = ('a','b','c')\n",
        "\n",
        "zipped = zip(list1,list2)\n",
        "print (list(zipped)) \n",
        "\n",
        "list3 = (\"ali\",\"ahmed\", \"Alice\")\n",
        "list4 = (10 , 20 , 30 )\n",
        "\n",
        "names_iter = iter(list3)\n",
        "ages_iter  = iter(list4)\n",
        "\n",
        "for name, age in zip(names_iter,ages_iter):\n",
        "    print (f\"{name} is {age} years old\")\n"
      ]
    },
    {
      "cell_type": "markdown",
      "metadata": {
        "id": "4xaabhyGvx_R"
      },
      "source": [
        "micro_grad Engine class"
      ]
    },
    {
      "cell_type": "code",
      "execution_count": 1,
      "metadata": {
        "id": "xnLVpo12v7-F"
      },
      "outputs": [],
      "source": [
        "class Value :\n",
        " def __init__(self, data ,_childrwn= (), op='' ):\n",
        "    self.data = data\n",
        "    print(\"hello world\")"
      ]
    }
  ],
  "metadata": {
    "colab": {
      "authorship_tag": "ABX9TyMrkRyomF4NiWwrOj/CJIQw",
      "include_colab_link": true,
      "provenance": [],
      "toc_visible": true
    },
    "kernelspec": {
      "display_name": "Python 3",
      "name": "python3"
    },
    "language_info": {
      "codemirror_mode": {
        "name": "ipython",
        "version": 3
      },
      "file_extension": ".py",
      "mimetype": "text/x-python",
      "name": "python",
      "nbconvert_exporter": "python",
      "pygments_lexer": "ipython3",
      "version": "3.12.1"
    }
  },
  "nbformat": 4,
  "nbformat_minor": 0
}
